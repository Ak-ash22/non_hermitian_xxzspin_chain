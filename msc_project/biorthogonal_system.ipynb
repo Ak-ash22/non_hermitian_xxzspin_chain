{
 "cells": [
  {
   "cell_type": "code",
   "execution_count": 201,
   "id": "368e62aa",
   "metadata": {},
   "outputs": [],
   "source": [
    "import numpy as np\n",
    "import scipy\n",
    "import sympy as sp\n",
    "import matplotlib.pyplot as plt"
   ]
  },
  {
   "cell_type": "code",
   "execution_count": 202,
   "id": "419c2504",
   "metadata": {},
   "outputs": [],
   "source": [
    "I = np.array([[1,0],[0,1]])\n",
    "sx = np.array([[0,1],[1,0]])\n",
    "sy = np.array([[0,-1j],[1j,0]])\n",
    "sz = np.array([[1,0],[0,-1]])\n",
    "\n",
    "sx2 = np.kron(np.kron(I,sx),I)\n",
    "sz2 = np.kron(np.kron(I,sz),I)\n",
    "\n",
    "sx_ab = np.kron(np.kron(sx,I),sx)\n",
    "sy_ab = np.kron(np.kron(sy,I),sy)\n",
    "sz_ab = np.kron(np.kron(sz,I),sz)\n",
    "\n",
    "sx_ac = np.kron(np.kron(sx,sx),I)\n",
    "sy_ac = np.kron(np.kron(sy,sy),I)\n",
    "sz_ac = np.kron(np.kron(sz,sz),I)\n",
    "\n",
    "sx_bc = np.kron(np.kron(I,sx),sx)\n",
    "sy_bc = np.kron(np.kron(I,sy),sy)\n",
    "sz_bc = np.kron(np.kron(I,sz),sz)\n"
   ]
  },
  {
   "cell_type": "code",
   "execution_count": 203,
   "id": "a8a09dc9",
   "metadata": {},
   "outputs": [],
   "source": [
    "hz = 0.4\n",
    "hx = 0.6\n",
    "D = 0.8"
   ]
  },
  {
   "cell_type": "code",
   "execution_count": 204,
   "id": "32765c71",
   "metadata": {},
   "outputs": [],
   "source": [
    "H_c = 1j*hz*sz2 + hx*sx2\n",
    "H_ab = sx_ab + sy_ab + D*sz_ab\n",
    "H_bc = sx_bc + sy_bc + D*sz_bc\n",
    "H_ac = sx_ac + sy_ac + D*sz_ac\n",
    "H_t = H_c + H_ab + H_bc + H_ac"
   ]
  },
  {
   "cell_type": "markdown",
   "id": "9a340103",
   "metadata": {},
   "source": [
    "## Ket space"
   ]
  },
  {
   "cell_type": "code",
   "execution_count": 205,
   "id": "2679ee55",
   "metadata": {},
   "outputs": [
    {
     "name": "stdout",
     "output_type": "stream",
     "text": [
      "(-3.2472-0j)\n"
     ]
    }
   ],
   "source": [
    "e, psi = np.linalg.eig(H_t)\n",
    "print(np.round(min(e),4))"
   ]
  },
  {
   "cell_type": "code",
   "execution_count": 206,
   "id": "b1758255",
   "metadata": {},
   "outputs": [
    {
     "data": {
      "text/plain": [
       "array([[-0.    +0.j    ],\n",
       "       [ 0.3727-0.3333j],\n",
       "       [ 0.    -0.j    ],\n",
       "       [-0.5   -0.j    ],\n",
       "       [-0.3727+0.3333j],\n",
       "       [-0.    +0.j    ],\n",
       "       [ 0.5   +0.j    ],\n",
       "       [ 0.    -0.j    ]])"
      ]
     },
     "execution_count": 206,
     "metadata": {},
     "output_type": "execute_result"
    }
   ],
   "source": [
    "psi1 = np.round(psi[:,np.argmin(e)].reshape(8,1),4)\n",
    "psi1"
   ]
  },
  {
   "cell_type": "code",
   "execution_count": 207,
   "id": "79f4d729",
   "metadata": {},
   "outputs": [],
   "source": [
    "p1 = psi[:,0].reshape(8,1)\n",
    "p2 = psi[:,1].reshape(8,1)"
   ]
  },
  {
   "cell_type": "code",
   "execution_count": 208,
   "id": "9812c4e9",
   "metadata": {},
   "outputs": [
    {
     "data": {
      "text/plain": [
       "array([[-0.05468596+0.00617579j]])"
      ]
     },
     "execution_count": 208,
     "metadata": {},
     "output_type": "execute_result"
    }
   ],
   "source": [
    "np.conj(p1).T @ p2"
   ]
  },
  {
   "cell_type": "code",
   "execution_count": 209,
   "id": "3b10a671",
   "metadata": {},
   "outputs": [
    {
     "data": {
      "text/plain": [
       "array([[ 0.    +0.j    ,  0.    +0.j    ,  0.    +0.j    ,\n",
       "         0.    +0.j    ,  0.    +0.j    ,  0.    +0.j    ,\n",
       "         0.    +0.j    ,  0.    +0.j    ],\n",
       "       [ 0.    +0.j    ,  0.25  +0.j    ,  0.    +0.j    ,\n",
       "        -0.1863+0.1666j, -0.25  +0.j    ,  0.    +0.j    ,\n",
       "         0.1863-0.1666j,  0.    +0.j    ],\n",
       "       [ 0.    +0.j    ,  0.    +0.j    ,  0.    +0.j    ,\n",
       "         0.    +0.j    ,  0.    +0.j    ,  0.    +0.j    ,\n",
       "         0.    +0.j    ,  0.    +0.j    ],\n",
       "       [ 0.    +0.j    , -0.1863-0.1666j,  0.    +0.j    ,\n",
       "         0.25  +0.j    ,  0.1863+0.1666j,  0.    +0.j    ,\n",
       "        -0.25  +0.j    ,  0.    +0.j    ],\n",
       "       [ 0.    +0.j    , -0.25  +0.j    ,  0.    +0.j    ,\n",
       "         0.1863-0.1666j,  0.25  +0.j    ,  0.    +0.j    ,\n",
       "        -0.1863+0.1666j,  0.    +0.j    ],\n",
       "       [ 0.    +0.j    ,  0.    +0.j    ,  0.    +0.j    ,\n",
       "         0.    +0.j    ,  0.    +0.j    ,  0.    +0.j    ,\n",
       "         0.    +0.j    ,  0.    +0.j    ],\n",
       "       [ 0.    +0.j    ,  0.1863+0.1666j,  0.    +0.j    ,\n",
       "        -0.25  +0.j    , -0.1863-0.1666j,  0.    +0.j    ,\n",
       "         0.25  +0.j    ,  0.    +0.j    ],\n",
       "       [ 0.    +0.j    ,  0.    +0.j    ,  0.    +0.j    ,\n",
       "         0.    +0.j    ,  0.    +0.j    ,  0.    +0.j    ,\n",
       "         0.    +0.j    ,  0.    +0.j    ]])"
      ]
     },
     "execution_count": 209,
     "metadata": {},
     "output_type": "execute_result"
    }
   ],
   "source": [
    "dm_r = np.round(psi1 @ np.conj(psi1).T,4)\n",
    "dm_r"
   ]
  },
  {
   "cell_type": "code",
   "execution_count": 210,
   "id": "797ecff3",
   "metadata": {},
   "outputs": [
    {
     "data": {
      "text/plain": [
       "array([[ 0.5   +0.j    , -0.3727+0.3333j],\n",
       "       [-0.3727-0.3333j,  0.5   +0.j    ]])"
      ]
     },
     "execution_count": 210,
     "metadata": {},
     "output_type": "execute_result"
    }
   ],
   "source": [
    "sigma_z = np.array([[1,0],[0,-1]])\n",
    "I = np.array([[1,0],[0,1]])\n",
    "Sminus = np.array([[0,0],[1,0]])\n",
    "\n",
    "sigma_cz = np.kron(np.kron(I,sigma_z),I)\n",
    "Sminus_cz = np.kron(np.kron(I,Sminus),I)     \n",
    "I_cz = np.kron(np.kron(I,I),I)\n",
    "\n",
    "a = np.conj(psi1).T @ (0.5*(I_cz + sigma_cz)) @ psi1\n",
    "b = np.conj(psi1).T @ (Sminus_cz) @ psi1\n",
    "\n",
    "rho_rc = np.round(np.array([[a,b],[np.conj(b),1-a]]).reshape(2,2),4)\n",
    "rho_rc"
   ]
  },
  {
   "cell_type": "code",
   "execution_count": 211,
   "id": "d2341461",
   "metadata": {},
   "outputs": [
    {
     "data": {
      "text/plain": [
       "array([9.99994180e-01-2.77555756e-17j, 5.82003387e-06+2.77555756e-17j])"
      ]
     },
     "execution_count": 211,
     "metadata": {},
     "output_type": "execute_result"
    }
   ],
   "source": [
    "lmbda, k = np.linalg.eig(rho_rc)\n",
    "lmbda"
   ]
  },
  {
   "cell_type": "code",
   "execution_count": 212,
   "id": "f8874463",
   "metadata": {},
   "outputs": [
    {
     "name": "stdout",
     "output_type": "stream",
     "text": [
      "[[ 0.70710678+0.j        ]\n",
      " [-0.52708353-0.47136287j]] [[0.52708353-0.47136287j]\n",
      " [0.70710678+0.j        ]]\n"
     ]
    }
   ],
   "source": [
    "k1 = k[:,0].reshape(2,1)\n",
    "k2 = k[:,1].reshape(2,1)\n",
    "print(k1,k2)"
   ]
  },
  {
   "cell_type": "code",
   "execution_count": 213,
   "id": "5c4248d7",
   "metadata": {},
   "outputs": [
    {
     "data": {
      "text/plain": [
       "array([[ 0.5   -0.j    , -0.3727+0.3333j],\n",
       "       [-0.3727-0.3333j,  0.5   +0.j    ]])"
      ]
     },
     "execution_count": 213,
     "metadata": {},
     "output_type": "execute_result"
    }
   ],
   "source": [
    "np.round(lmbda[0]*(k1@np.conj(k1).T) + lmbda[1]*(k2@np.conj(k2).T),5)"
   ]
  },
  {
   "cell_type": "code",
   "execution_count": 214,
   "id": "031f0413",
   "metadata": {},
   "outputs": [
    {
     "name": "stdout",
     "output_type": "stream",
     "text": [
      "[[ True  True]\n",
      " [ True  True]]\n"
     ]
    }
   ],
   "source": [
    "print(np.round(rho_rc,5) == np.round(lmbda[0]*(k1@np.conj(k1).T) + lmbda[1]*(k2@np.conj(k2).T),5))"
   ]
  },
  {
   "cell_type": "markdown",
   "id": "7a2d1f41",
   "metadata": {},
   "source": [
    "## Bra space"
   ]
  },
  {
   "cell_type": "code",
   "execution_count": 215,
   "id": "a052ae5c",
   "metadata": {},
   "outputs": [
    {
     "data": {
      "text/plain": [
       "(-3.247213595499959+7.223993960795284e-16j)"
      ]
     },
     "execution_count": 215,
     "metadata": {},
     "output_type": "execute_result"
    }
   ],
   "source": [
    "H_dag = np.conj(H_t).T\n",
    "f, phi = np.linalg.eig(H_dag)\n",
    "min(f)"
   ]
  },
  {
   "cell_type": "code",
   "execution_count": 216,
   "id": "0d44fdd3",
   "metadata": {},
   "outputs": [
    {
     "data": {
      "text/plain": [
       "array([[-0.    -0.j    ],\n",
       "       [ 0.3727+0.3333j],\n",
       "       [ 0.    +0.j    ],\n",
       "       [-0.5   +0.j    ],\n",
       "       [-0.3727-0.3333j],\n",
       "       [-0.    -0.j    ],\n",
       "       [ 0.5   +0.j    ],\n",
       "       [ 0.    +0.j    ]])"
      ]
     },
     "execution_count": 216,
     "metadata": {},
     "output_type": "execute_result"
    }
   ],
   "source": [
    "phi1 = np.round(phi[:,np.argmin(f)].reshape(8,1),4)\n",
    "phi1"
   ]
  },
  {
   "cell_type": "code",
   "execution_count": 217,
   "id": "9915e9f0",
   "metadata": {},
   "outputs": [
    {
     "data": {
      "text/plain": [
       "array([[0.99998836+0.j]])"
      ]
     },
     "execution_count": 217,
     "metadata": {},
     "output_type": "execute_result"
    }
   ],
   "source": [
    "np.conj(phi1).T @ phi1"
   ]
  },
  {
   "cell_type": "code",
   "execution_count": 218,
   "id": "edc0f4a4",
   "metadata": {},
   "outputs": [
    {
     "data": {
      "text/plain": [
       "array([[ 0.    +0.j    ,  0.    +0.j    ,  0.    +0.j    ,\n",
       "         0.    +0.j    ,  0.    +0.j    ,  0.    +0.j    ,\n",
       "         0.    +0.j    ,  0.    +0.j    ],\n",
       "       [ 0.    +0.j    ,  0.25  +0.j    ,  0.    +0.j    ,\n",
       "        -0.1863-0.1666j, -0.25  +0.j    ,  0.    +0.j    ,\n",
       "         0.1863+0.1666j,  0.    +0.j    ],\n",
       "       [ 0.    +0.j    ,  0.    +0.j    ,  0.    +0.j    ,\n",
       "         0.    +0.j    ,  0.    +0.j    ,  0.    +0.j    ,\n",
       "         0.    +0.j    ,  0.    +0.j    ],\n",
       "       [ 0.    +0.j    , -0.1863+0.1666j,  0.    +0.j    ,\n",
       "         0.25  +0.j    ,  0.1863-0.1666j,  0.    +0.j    ,\n",
       "        -0.25  +0.j    ,  0.    +0.j    ],\n",
       "       [ 0.    +0.j    , -0.25  +0.j    ,  0.    +0.j    ,\n",
       "         0.1863+0.1666j,  0.25  +0.j    ,  0.    +0.j    ,\n",
       "        -0.1863-0.1666j,  0.    +0.j    ],\n",
       "       [ 0.    +0.j    ,  0.    +0.j    ,  0.    +0.j    ,\n",
       "         0.    +0.j    ,  0.    +0.j    ,  0.    +0.j    ,\n",
       "         0.    +0.j    ,  0.    +0.j    ],\n",
       "       [ 0.    +0.j    ,  0.1863-0.1666j,  0.    +0.j    ,\n",
       "        -0.25  +0.j    , -0.1863+0.1666j,  0.    +0.j    ,\n",
       "         0.25  +0.j    ,  0.    +0.j    ],\n",
       "       [ 0.    +0.j    ,  0.    +0.j    ,  0.    +0.j    ,\n",
       "         0.    +0.j    ,  0.    +0.j    ,  0.    +0.j    ,\n",
       "         0.    +0.j    ,  0.    +0.j    ]])"
      ]
     },
     "execution_count": 218,
     "metadata": {},
     "output_type": "execute_result"
    }
   ],
   "source": [
    "dm_l = np.round(phi1 @ np.conj(phi1).T,4)\n",
    "dm_l"
   ]
  },
  {
   "cell_type": "code",
   "execution_count": 219,
   "id": "75c994be",
   "metadata": {},
   "outputs": [
    {
     "data": {
      "text/plain": [
       "array([[ 0.49999+0.j    , -0.3727 -0.3333j],\n",
       "       [-0.3727 +0.3333j,  0.50001+0.j    ]])"
      ]
     },
     "execution_count": 219,
     "metadata": {},
     "output_type": "execute_result"
    }
   ],
   "source": [
    "c = np.conj(phi1).T @ (0.5*(I_cz + sigma_cz)) @ phi1\n",
    "d = np.conj(phi1).T @ (Sminus_cz) @ phi1\n",
    "\n",
    "rho_lc = np.array([[c,d],[np.conj(d),1-c]]).reshape(2,2)\n",
    "np.round(rho_lc,5)"
   ]
  },
  {
   "cell_type": "code",
   "execution_count": 220,
   "id": "29e5b955",
   "metadata": {},
   "outputs": [
    {
     "data": {
      "text/plain": [
       "array([5.81989838e-06-2.77555756e-17j, 9.99994180e-01+2.77555756e-17j])"
      ]
     },
     "execution_count": 220,
     "metadata": {},
     "output_type": "execute_result"
    }
   ],
   "source": [
    "lmbda1, k_tilda = np.linalg.eig(rho_lc)\n",
    "lmbda1"
   ]
  },
  {
   "cell_type": "code",
   "execution_count": 221,
   "id": "bbed9c09",
   "metadata": {},
   "outputs": [
    {
     "name": "stdout",
     "output_type": "stream",
     "text": [
      "[[0.70711501+0.j        ]\n",
      " [0.52707739-0.47135738j]] [[-0.52707739-0.47135738j]\n",
      " [ 0.70711501+0.j        ]]\n"
     ]
    }
   ],
   "source": [
    "k_tilda1 = k_tilda[:,0].reshape(2,1)\n",
    "k_tilda2 = k_tilda[:,1].reshape(2,1)\n",
    "print(k_tilda1,k_tilda2)"
   ]
  },
  {
   "cell_type": "code",
   "execution_count": 222,
   "id": "b49df7e5",
   "metadata": {},
   "outputs": [
    {
     "name": "stdout",
     "output_type": "stream",
     "text": [
      "[[ True  True]\n",
      " [ True  True]]\n"
     ]
    }
   ],
   "source": [
    "print(np.round(rho_lc,5) == np.round(lmbda1[0]*(k_tilda1@np.conj(k_tilda1).T) + lmbda1[1]*(k_tilda2@np.conj(k_tilda2).T),5))"
   ]
  },
  {
   "cell_type": "markdown",
   "id": "5f9b0464",
   "metadata": {},
   "source": [
    "## Verifying Orthonormality"
   ]
  },
  {
   "cell_type": "code",
   "execution_count": 223,
   "id": "38a6f593",
   "metadata": {},
   "outputs": [
    {
     "data": {
      "text/plain": [
       "array([[0.00341176-4.06762797e-15j]])"
      ]
     },
     "execution_count": 223,
     "metadata": {},
     "output_type": "execute_result"
    }
   ],
   "source": [
    "N = np.sqrt((k_tilda2).T @ k2)\n",
    "N"
   ]
  },
  {
   "cell_type": "code",
   "execution_count": 224,
   "id": "7d5c4da2",
   "metadata": {},
   "outputs": [],
   "source": [
    "k1_norm = k1/N\n",
    "k2_norm = k2/N\n",
    "k_tilda1_norm = k_tilda1/N\n",
    "k_tilda2_norm = k_tilda2/N"
   ]
  },
  {
   "cell_type": "code",
   "execution_count": 225,
   "id": "13f0842b",
   "metadata": {},
   "outputs": [
    {
     "data": {
      "text/plain": [
       "array([[64037.80069-0.66661j]])"
      ]
     },
     "execution_count": 225,
     "metadata": {},
     "output_type": "execute_result"
    }
   ],
   "source": [
    "np.round(np.conj(k_tilda1_norm).T @ k2_norm,5)"
   ]
  },
  {
   "cell_type": "code",
   "execution_count": 226,
   "id": "65164a3a",
   "metadata": {},
   "outputs": [
    {
     "name": "stdout",
     "output_type": "stream",
     "text": [
      "[[False  True]\n",
      " [ True False]]\n"
     ]
    }
   ],
   "source": [
    "print(np.round(rho_rc,5) == np.round(rho_lc.T,5))"
   ]
  },
  {
   "cell_type": "code",
   "execution_count": 227,
   "id": "0b6f7e97",
   "metadata": {},
   "outputs": [
    {
     "name": "stdout",
     "output_type": "stream",
     "text": [
      "[[ True]\n",
      " [ True]\n",
      " [ True]\n",
      " [ True]\n",
      " [ True]\n",
      " [ True]\n",
      " [ True]\n",
      " [ True]]\n"
     ]
    }
   ],
   "source": [
    "print(psi1 == np.conj(phi1))"
   ]
  },
  {
   "cell_type": "code",
   "execution_count": 228,
   "id": "51e19e66",
   "metadata": {},
   "outputs": [
    {
     "name": "stdout",
     "output_type": "stream",
     "text": [
      "[[ True  True  True  True  True  True  True  True]\n",
      " [ True  True  True  True  True  True  True  True]\n",
      " [ True  True  True  True  True  True  True  True]\n",
      " [ True  True  True  True  True  True  True  True]\n",
      " [ True  True  True  True  True  True  True  True]\n",
      " [ True  True  True  True  True  True  True  True]\n",
      " [ True  True  True  True  True  True  True  True]\n",
      " [ True  True  True  True  True  True  True  True]]\n"
     ]
    }
   ],
   "source": [
    "print(H_t == np.conj(H_dag))"
   ]
  },
  {
   "cell_type": "code",
   "execution_count": 229,
   "id": "1cac8878",
   "metadata": {},
   "outputs": [
    {
     "name": "stdout",
     "output_type": "stream",
     "text": [
      "[[ True  True  True  True  True  True  True  True]\n",
      " [ True  True  True  True  True  True  True  True]\n",
      " [ True  True  True  True  True  True  True  True]\n",
      " [ True  True  True  True  True  True  True  True]\n",
      " [ True  True  True  True  True  True  True  True]\n",
      " [ True  True  True  True  True  True  True  True]\n",
      " [ True  True  True  True  True  True  True  True]\n",
      " [ True  True  True  True  True  True  True  True]]\n"
     ]
    }
   ],
   "source": [
    "print(dm_l == np.conj(dm_r))"
   ]
  },
  {
   "cell_type": "code",
   "execution_count": 230,
   "id": "e1873f83",
   "metadata": {},
   "outputs": [
    {
     "data": {
      "text/plain": [
       "array([[-0.-0.j]])"
      ]
     },
     "execution_count": 230,
     "metadata": {},
     "output_type": "execute_result"
    }
   ],
   "source": [
    "np.round((np.conj(phi[:,4].reshape(8,1)).T @ psi[:,7].reshape(8,1)),5)"
   ]
  },
  {
   "cell_type": "code",
   "execution_count": null,
   "id": "9f024de4",
   "metadata": {},
   "outputs": [],
   "source": []
  },
  {
   "cell_type": "markdown",
   "id": "99012751",
   "metadata": {},
   "source": [
    "## rho_ab"
   ]
  },
  {
   "cell_type": "code",
   "execution_count": 231,
   "id": "139ad350",
   "metadata": {},
   "outputs": [],
   "source": [
    "def extract_elements_4(test_rhoB,indices):\n",
    "    # Create a new 4x4 matrix filled with zeros\n",
    "    four_by_four = [[ 0 for _ in range(4)] for _ in range(4)]\n",
    "    # Iterate over the elements of the 4x4 matrix\n",
    "    for i in range (4):\n",
    "        for j in range (4):\n",
    "            row_idx, col_idx = indices[i * 4 + j]\n",
    "            four_by_four[i][j] = test_rhoB[row_idx][col_idx]\n",
    "    return four_by_four"
   ]
  },
  {
   "cell_type": "code",
   "execution_count": 232,
   "id": "ebb4f7a7",
   "metadata": {},
   "outputs": [
    {
     "data": {
      "text/plain": [
       "array([[ 0. +0.j,  0. +0.j,  0. +0.j,  0. +0.j],\n",
       "       [ 0. +0.j,  0.5+0.j, -0.5+0.j,  0. +0.j],\n",
       "       [ 0. +0.j, -0.5+0.j,  0.5+0.j,  0. +0.j],\n",
       "       [ 0. +0.j,  0. +0.j,  0. +0.j,  0. +0.j]])"
      ]
     },
     "execution_count": 232,
     "metadata": {},
     "output_type": "execute_result"
    }
   ],
   "source": [
    "list_3c = []\n",
    "indices = [(0,0),(0,1),(0,4),(0,5),(1,0),(1,1),(1,4),(1,5),(4,0),(4,1),(4,4),(4,5),(5,0),(5,1),(5,4),(5,5)]\n",
    "four_by_four = extract_elements_4(dm_r,indices)\n",
    "e =four_by_four\n",
    "indices = [(2,2),(2,3),(2,6),(2,7),(3,2),(3,3),(3,6),(3,7),(6,2),(6,3),(6,6),(6,7),(7,2),(7,3),(7,6),(7,7)]\n",
    "four_by_four = extract_elements_4(dm_r,indices)\n",
    "d =four_by_four\n",
    "rho_31 = np.add(e,d)\n",
    "list_3c.append(rho_31)\n",
    "rho_ab = np.asarray(list_3c).reshape(4,4)\n",
    "np.round(rho_ab,4)"
   ]
  },
  {
   "cell_type": "code",
   "execution_count": 233,
   "id": "1065ee52",
   "metadata": {},
   "outputs": [
    {
     "data": {
      "text/plain": [
       "(4, 4)"
      ]
     },
     "execution_count": 233,
     "metadata": {},
     "output_type": "execute_result"
    }
   ],
   "source": [
    "np.shape(rho_ab)"
   ]
  },
  {
   "cell_type": "code",
   "execution_count": 234,
   "id": "47cc0dbe",
   "metadata": {},
   "outputs": [
    {
     "data": {
      "text/plain": [
       "array([1.0000000e+00+0.j, 7.2203753e-33+0.j, 0.0000000e+00+0.j,\n",
       "       0.0000000e+00+0.j])"
      ]
     },
     "execution_count": 234,
     "metadata": {},
     "output_type": "execute_result"
    }
   ],
   "source": [
    "lmbda2, k_ab = np.linalg.eig(rho_ab)\n",
    "lmbda2"
   ]
  },
  {
   "cell_type": "code",
   "execution_count": 235,
   "id": "094b96c0",
   "metadata": {},
   "outputs": [
    {
     "data": {
      "text/plain": [
       "array([[ 0.        +0.j],\n",
       "       [-0.70710678+0.j],\n",
       "       [ 0.70710678+0.j],\n",
       "       [ 0.        +0.j]])"
      ]
     },
     "execution_count": 235,
     "metadata": {},
     "output_type": "execute_result"
    }
   ],
   "source": [
    "k_ab1 = k_ab[:,0].reshape(4,1)\n",
    "k_ab1"
   ]
  },
  {
   "cell_type": "code",
   "execution_count": 236,
   "id": "3587efed",
   "metadata": {},
   "outputs": [
    {
     "data": {
      "text/plain": [
       "array([[ 0. +0.j,  0. +0.j,  0. +0.j,  0. +0.j],\n",
       "       [ 0. +0.j,  0.5+0.j, -0.5+0.j,  0. +0.j],\n",
       "       [ 0. +0.j, -0.5+0.j,  0.5+0.j,  0. +0.j],\n",
       "       [ 0. +0.j,  0. +0.j,  0. +0.j,  0. +0.j]])"
      ]
     },
     "execution_count": 236,
     "metadata": {},
     "output_type": "execute_result"
    }
   ],
   "source": [
    "rhs = 0\n",
    "for i in range(len(lmbda2)):\n",
    "    rhs = rhs + np.round(lmbda2[i]*(k_ab[:,i].reshape(4,1))@np.conj(k_ab[:,i].reshape(4,1)).T,4)\n",
    "rhs"
   ]
  },
  {
   "cell_type": "code",
   "execution_count": 237,
   "id": "73fffa5d",
   "metadata": {},
   "outputs": [
    {
     "data": {
      "text/plain": [
       "array([[ 0.    +0.j    ],\n",
       "       [-0.5   +0.j    ],\n",
       "       [ 0.5   -0.j    ],\n",
       "       [ 0.    +0.j    ],\n",
       "       [ 0.    +0.j    ],\n",
       "       [ 0.3727+0.3333j],\n",
       "       [-0.3727-0.3333j],\n",
       "       [ 0.    +0.j    ]])"
      ]
     },
     "execution_count": 237,
     "metadata": {},
     "output_type": "execute_result"
    }
   ],
   "source": [
    "np.round(np.sqrt(lmbda[0]*lmbda2[0])*np.kron(k1,np.conj(k_ab1)).T,4).reshape(8,1)"
   ]
  },
  {
   "cell_type": "code",
   "execution_count": 238,
   "id": "14eda8e9",
   "metadata": {},
   "outputs": [
    {
     "data": {
      "text/plain": [
       "array([[-0.    +0.j    ],\n",
       "       [ 0.3727-0.3333j],\n",
       "       [ 0.    -0.j    ],\n",
       "       [-0.5   -0.j    ],\n",
       "       [-0.3727+0.3333j],\n",
       "       [-0.    +0.j    ],\n",
       "       [ 0.5   +0.j    ],\n",
       "       [ 0.    -0.j    ]])"
      ]
     },
     "execution_count": 238,
     "metadata": {},
     "output_type": "execute_result"
    }
   ],
   "source": [
    "np.round(psi1,4)"
   ]
  },
  {
   "cell_type": "code",
   "execution_count": null,
   "id": "4e1f447c",
   "metadata": {},
   "outputs": [],
   "source": []
  },
  {
   "cell_type": "markdown",
   "id": "f1d11d5f",
   "metadata": {},
   "source": [
    "## my_functions_plot"
   ]
  },
  {
   "cell_type": "code",
   "execution_count": 239,
   "id": "fed1e49f",
   "metadata": {},
   "outputs": [],
   "source": [
    "%run my_functions.ipynb"
   ]
  },
  {
   "cell_type": "code",
   "execution_count": 240,
   "id": "a6214f68",
   "metadata": {},
   "outputs": [],
   "source": [
    "ket_psi, ket_phi = eigvectors(H_t)"
   ]
  },
  {
   "cell_type": "code",
   "execution_count": 241,
   "id": "c2315a3c",
   "metadata": {},
   "outputs": [
    {
     "data": {
      "text/plain": [
       "array([[-8.09195593e-17+5.40296317e-17j],\n",
       "       [ 3.72677996e-01-3.33333333e-01j],\n",
       "       [ 7.97636480e-16-4.54581745e-16j],\n",
       "       [-5.00000000e-01-9.15933995e-16j],\n",
       "       [-3.72677996e-01+3.33333333e-01j],\n",
       "       [-7.11932716e-16+1.07382294e-15j],\n",
       "       [ 5.00000000e-01+0.00000000e+00j],\n",
       "       [ 1.88252145e-16-2.13533254e-16j]])"
      ]
     },
     "execution_count": 241,
     "metadata": {},
     "output_type": "execute_result"
    }
   ],
   "source": [
    "ket_psi"
   ]
  },
  {
   "cell_type": "code",
   "execution_count": 242,
   "id": "c66ff982",
   "metadata": {},
   "outputs": [
    {
     "data": {
      "text/plain": [
       "array([[-8.09195593e-17-5.40296317e-17j],\n",
       "       [ 3.72677996e-01+3.33333333e-01j],\n",
       "       [ 7.97636480e-16+4.54581745e-16j],\n",
       "       [-5.00000000e-01+9.15933995e-16j],\n",
       "       [-3.72677996e-01-3.33333333e-01j],\n",
       "       [-7.11932716e-16-1.07382294e-15j],\n",
       "       [ 5.00000000e-01+0.00000000e+00j],\n",
       "       [ 1.88252145e-16+2.13533254e-16j]])"
      ]
     },
     "execution_count": 242,
     "metadata": {},
     "output_type": "execute_result"
    }
   ],
   "source": [
    "ket_phi"
   ]
  },
  {
   "cell_type": "code",
   "execution_count": 243,
   "id": "203e1f61",
   "metadata": {},
   "outputs": [],
   "source": [
    "rdm_rc, rdm_lc = rho_c(ket_psi,ket_phi)"
   ]
  },
  {
   "cell_type": "code",
   "execution_count": 244,
   "id": "7ddaa9cc",
   "metadata": {},
   "outputs": [
    {
     "data": {
      "text/plain": [
       "array([[ 0.5     +0.j        , -0.372678-0.33333333j],\n",
       "       [-0.372678+0.33333333j,  0.5     +0.j        ]])"
      ]
     },
     "execution_count": 244,
     "metadata": {},
     "output_type": "execute_result"
    }
   ],
   "source": [
    "rdm_lc"
   ]
  },
  {
   "cell_type": "code",
   "execution_count": 245,
   "id": "41b3d72d",
   "metadata": {},
   "outputs": [
    {
     "data": {
      "text/plain": [
       "array([0.-0.j, 1.-0.j])"
      ]
     },
     "execution_count": 245,
     "metadata": {},
     "output_type": "execute_result"
    }
   ],
   "source": [
    "l = np.linalg.eigvals(rdm_rc)\n",
    "np.round(l,4)"
   ]
  },
  {
   "cell_type": "code",
   "execution_count": 246,
   "id": "62b7b184",
   "metadata": {},
   "outputs": [
    {
     "data": {
      "text/plain": [
       "0.0"
      ]
     },
     "execution_count": 246,
     "metadata": {},
     "output_type": "execute_result"
    }
   ],
   "source": [
    "Entropy(rdm_rc)"
   ]
  },
  {
   "cell_type": "code",
   "execution_count": 247,
   "id": "dbe25b2c",
   "metadata": {},
   "outputs": [
    {
     "data": {
      "text/plain": [
       "0.0"
      ]
     },
     "execution_count": 247,
     "metadata": {},
     "output_type": "execute_result"
    }
   ],
   "source": [
    "Entropy(rdm_lc)"
   ]
  }
 ],
 "metadata": {
  "kernelspec": {
   "display_name": "Python 3 (ipykernel)",
   "language": "python",
   "name": "python3"
  },
  "language_info": {
   "codemirror_mode": {
    "name": "ipython",
    "version": 3
   },
   "file_extension": ".py",
   "mimetype": "text/x-python",
   "name": "python",
   "nbconvert_exporter": "python",
   "pygments_lexer": "ipython3",
   "version": "3.8.10"
  }
 },
 "nbformat": 4,
 "nbformat_minor": 5
}
