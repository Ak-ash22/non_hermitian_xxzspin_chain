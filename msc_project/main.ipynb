{
 "cells": [
  {
   "cell_type": "code",
   "execution_count": 1,
   "id": "bd546b5d",
   "metadata": {},
   "outputs": [],
   "source": [
    "import numpy as np\n",
    "from numpy import linalg as LA\n",
    "from numpy import matrix\n",
    "%run my_functions.ipynb"
   ]
  },
  {
   "cell_type": "markdown",
   "id": "83fc0e6e",
   "metadata": {},
   "source": [
    "## System\n",
    "###      A------C------B"
   ]
  },
  {
   "cell_type": "code",
   "execution_count": 2,
   "id": "e7e1d141",
   "metadata": {},
   "outputs": [],
   "source": [
    "N = 3 #Number of spins\n",
    "\n",
    "s1 = np.array([1,0])\n",
    "s2 = np.array([1,0])\n",
    "s3 = np.array([1,0])\n",
    "gs = np.kron(np.kron(s1,s2),s3)"
   ]
  },
  {
   "cell_type": "code",
   "execution_count": 3,
   "id": "01b8150b",
   "metadata": {},
   "outputs": [],
   "source": [
    "#Pauli matrices\n",
    "I = np.array([[1,0],[0,1]])\n",
    "sx = np.array([[0,1],[1,0]])\n",
    "sy = np.array([[0,-1j],[1j,0]])\n",
    "sz = np.array([[1,0],[0,-1]])"
   ]
  },
  {
   "cell_type": "code",
   "execution_count": 4,
   "id": "4b564b93",
   "metadata": {},
   "outputs": [],
   "source": [
    "#hamiltonian for C subsystem\n",
    "hz = 0.7902020202020202\n",
    "hx = 0.8\n",
    "sx2 = np.kron(np.kron(I,sx),I)\n",
    "sz2 = np.kron(np.kron(I,sz),I)\n",
    "\n",
    "H_c = 1j*hz*sz2 + hx*sx2"
   ]
  },
  {
   "cell_type": "code",
   "execution_count": 5,
   "id": "7274a7ae",
   "metadata": {},
   "outputs": [],
   "source": [
    "#AB interactions\n",
    "sx_ab = np.kron(np.kron(sx,I),sx)\n",
    "sy_ab = np.kron(np.kron(sy,I),sy)\n",
    "sz_ab = np.kron(np.kron(sz,I),sz)\n",
    "\n",
    "sx_ac = np.kron(np.kron(sx,sx),I)\n",
    "sy_ac = np.kron(np.kron(sy,sy),I)\n",
    "sz_ac = np.kron(np.kron(sz,sz),I)\n",
    "\n",
    "sx_bc = np.kron(np.kron(I,sx),sx)\n",
    "sy_bc = np.kron(np.kron(I,sy),sy)\n",
    "sz_bc = np.kron(np.kron(I,sz),sz)\n",
    "\n",
    "D = 0.020202020202020204\n",
    "\n",
    "H_ab = sx_ab + sy_ab + D*sz_ab\n",
    "H_bc = sx_bc + sy_bc + D*sz_bc\n",
    "H_ac = sx_ac + sy_ac + D*sz_ac"
   ]
  },
  {
   "cell_type": "code",
   "execution_count": 6,
   "id": "144cb664",
   "metadata": {},
   "outputs": [],
   "source": [
    "H = H_c + H_ab + H_bc + H_ac"
   ]
  },
  {
   "cell_type": "code",
   "execution_count": 7,
   "id": "30dd4481",
   "metadata": {},
   "outputs": [],
   "source": [
    "H_dag = np.matrix.getH(H)"
   ]
  },
  {
   "cell_type": "markdown",
   "id": "06ccf465",
   "metadata": {},
   "source": [
    "## Left Eigenvectors"
   ]
  },
  {
   "cell_type": "code",
   "execution_count": 8,
   "id": "c8fbe30d",
   "metadata": {},
   "outputs": [
    {
     "data": {
      "text/plain": [
       "(-2.243683136231523+4.871801160328235e-16j)"
      ]
     },
     "execution_count": 8,
     "metadata": {},
     "output_type": "execute_result"
    }
   ],
   "source": [
    "p,q = np.linalg.eig(H_dag)\n",
    "min(p)"
   ]
  },
  {
   "cell_type": "code",
   "execution_count": 9,
   "id": "cf3ce273",
   "metadata": {},
   "outputs": [
    {
     "data": {
      "text/plain": [
       "array([ 4.428+0.j   ,  3.505-0.j   ,  0.184-0.751j,  0.184+0.751j,\n",
       "       -2.244+0.j   , -2.018-0.j   , -2.145+0.j   , -1.895-0.j   ])"
      ]
     },
     "execution_count": 9,
     "metadata": {},
     "output_type": "execute_result"
    }
   ],
   "source": [
    "p_round = np.round(p,3)\n",
    "p_round"
   ]
  },
  {
   "cell_type": "code",
   "execution_count": 10,
   "id": "a7e01d9c",
   "metadata": {},
   "outputs": [
    {
     "data": {
      "text/plain": [
       "array([[-0.17061643-0.05850891j],\n",
       "       [-0.27117697-0.09679875j],\n",
       "       [ 0.54922932+0.j        ],\n",
       "       [ 0.15417842+0.24317887j],\n",
       "       [-0.27117697-0.09679875j],\n",
       "       [-0.12103382-0.53572723j],\n",
       "       [ 0.15417842+0.24317887j],\n",
       "       [ 0.09466933+0.15352842j]])"
      ]
     },
     "execution_count": 10,
     "metadata": {},
     "output_type": "execute_result"
    }
   ],
   "source": [
    "q1 = q[:,np.argmin(p)].reshape(8,1)\n",
    "q1"
   ]
  },
  {
   "cell_type": "code",
   "execution_count": 11,
   "id": "e9ff67e1",
   "metadata": {},
   "outputs": [
    {
     "data": {
      "text/plain": [
       "array([[1.+0.j]])"
      ]
     },
     "execution_count": 11,
     "metadata": {},
     "output_type": "execute_result"
    }
   ],
   "source": [
    "np.matrix.getH(q1)@q1"
   ]
  },
  {
   "cell_type": "code",
   "execution_count": 28,
   "id": "c60d5ee5",
   "metadata": {},
   "outputs": [
    {
     "data": {
      "text/plain": [
       "array([[-0.17061643+0.05850891j, -0.27117697+0.09679875j,\n",
       "         0.54922932-0.j        ,  0.15417842-0.24317887j,\n",
       "        -0.27117697+0.09679875j, -0.12103382+0.53572723j,\n",
       "         0.15417842-0.24317887j,  0.09466933-0.15352842j]])"
      ]
     },
     "execution_count": 28,
     "metadata": {},
     "output_type": "execute_result"
    }
   ],
   "source": [
    "q1_dag = np.conj(q1).T\n",
    "q1_dag"
   ]
  },
  {
   "cell_type": "code",
   "execution_count": 14,
   "id": "71d2cb9f",
   "metadata": {},
   "outputs": [
    {
     "data": {
      "text/plain": [
       "(1, 8)"
      ]
     },
     "execution_count": 14,
     "metadata": {},
     "output_type": "execute_result"
    }
   ],
   "source": [
    "np.shape(q1_dag)"
   ]
  },
  {
   "cell_type": "code",
   "execution_count": 15,
   "id": "272d9bff",
   "metadata": {},
   "outputs": [
    {
     "name": "stdout",
     "output_type": "stream",
     "text": [
      "[[ True]\n",
      " [ True]\n",
      " [ True]\n",
      " [ True]\n",
      " [ True]\n",
      " [ True]\n",
      " [ True]\n",
      " [ True]]\n"
     ]
    }
   ],
   "source": [
    "#Verifying GS eigenenergy and eigenfunction\n",
    "print(np.round(H_dag@q1,5) == np.round(min(p)*q1,5))"
   ]
  },
  {
   "cell_type": "markdown",
   "id": "ead790dc",
   "metadata": {},
   "source": [
    "## Right Eigenvectors"
   ]
  },
  {
   "cell_type": "code",
   "execution_count": 16,
   "id": "dcaf5d9b",
   "metadata": {},
   "outputs": [
    {
     "name": "stdout",
     "output_type": "stream",
     "text": [
      "(-2.243683136231523-4.871801160328235e-16j)\n"
     ]
    }
   ],
   "source": [
    "#Eigenvalues of H\n",
    "w,v = np.linalg.eig(H)\n",
    "print(min(w)) #Ground state energy"
   ]
  },
  {
   "cell_type": "code",
   "execution_count": 17,
   "id": "5af9b7c6",
   "metadata": {},
   "outputs": [
    {
     "data": {
      "text/plain": [
       "array([ 4.428-0.j   ,  3.505+0.j   ,  0.184+0.751j,  0.184-0.751j,\n",
       "       -2.244-0.j   , -2.018+0.j   , -2.145-0.j   , -1.895+0.j   ])"
      ]
     },
     "execution_count": 17,
     "metadata": {},
     "output_type": "execute_result"
    }
   ],
   "source": [
    "w_round = np.round(w,3)\n",
    "w_round"
   ]
  },
  {
   "cell_type": "code",
   "execution_count": 18,
   "id": "5ae12796",
   "metadata": {},
   "outputs": [
    {
     "data": {
      "text/plain": [
       "array([[-0.17061643+0.05850891j],\n",
       "       [-0.27117697+0.09679875j],\n",
       "       [ 0.54922932+0.j        ],\n",
       "       [ 0.15417842-0.24317887j],\n",
       "       [-0.27117697+0.09679875j],\n",
       "       [-0.12103382+0.53572723j],\n",
       "       [ 0.15417842-0.24317887j],\n",
       "       [ 0.09466933-0.15352842j]])"
      ]
     },
     "execution_count": 18,
     "metadata": {},
     "output_type": "execute_result"
    }
   ],
   "source": [
    "#Ground state\n",
    "v1 = v[:,np.argmin(w)].reshape(8,1) \n",
    "v1"
   ]
  },
  {
   "cell_type": "code",
   "execution_count": 19,
   "id": "bb73d15e",
   "metadata": {},
   "outputs": [
    {
     "name": "stdout",
     "output_type": "stream",
     "text": [
      "[[ True]\n",
      " [ True]\n",
      " [ True]\n",
      " [ True]\n",
      " [ True]\n",
      " [ True]\n",
      " [ True]\n",
      " [ True]]\n"
     ]
    }
   ],
   "source": [
    "#Verifying GS eigenenergy and eigenfunction\n",
    "print(np.round(H@v1,5) == np.round(min(w)*v1,5))"
   ]
  },
  {
   "cell_type": "code",
   "execution_count": 20,
   "id": "28d29bf9",
   "metadata": {},
   "outputs": [
    {
     "data": {
      "text/plain": [
       "array([[0.52086321-0.41631501j]])"
      ]
     },
     "execution_count": 20,
     "metadata": {},
     "output_type": "execute_result"
    }
   ],
   "source": [
    "N = np.sqrt(q1_dag@v1)\n",
    "N"
   ]
  },
  {
   "cell_type": "code",
   "execution_count": 34,
   "id": "d851059f",
   "metadata": {},
   "outputs": [
    {
     "data": {
      "text/plain": [
       "array([[-0.25465972-0.0912135j , -0.40831775-0.14051685j,\n",
       "         0.6434157 +0.51426864j,  0.40831775-0.14051685j,\n",
       "        -0.40831775-0.14051685j, -0.6434157 +0.51426864j,\n",
       "         0.40831775-0.14051685j,  0.25465972-0.0912135j ]])"
      ]
     },
     "execution_count": 34,
     "metadata": {},
     "output_type": "execute_result"
    }
   ],
   "source": [
    "q1_dag_norm = q1_dag/N\n",
    "q1_dag_norm"
   ]
  },
  {
   "cell_type": "code",
   "execution_count": 35,
   "id": "2fa8f7ca",
   "metadata": {},
   "outputs": [
    {
     "data": {
      "text/plain": [
       "array([[-0.25465972+0.0912135j ],\n",
       "       [-0.40831775+0.14051685j],\n",
       "       [ 0.6434157 -0.51426864j],\n",
       "       [ 0.40831775+0.14051685j],\n",
       "       [-0.40831775+0.14051685j],\n",
       "       [-0.6434157 -0.51426864j],\n",
       "       [ 0.40831775+0.14051685j],\n",
       "       [ 0.25465972+0.0912135j ]])"
      ]
     },
     "execution_count": 35,
     "metadata": {},
     "output_type": "execute_result"
    }
   ],
   "source": [
    "np.conj(q1_dag_norm).T"
   ]
  },
  {
   "cell_type": "code",
   "execution_count": 32,
   "id": "79bbb558",
   "metadata": {},
   "outputs": [
    {
     "data": {
      "text/plain": [
       "array([[-0.25465972-0.0912135j ],\n",
       "       [-0.40831775-0.14051685j],\n",
       "       [ 0.6434157 +0.51426864j],\n",
       "       [ 0.40831775-0.14051685j],\n",
       "       [-0.40831775-0.14051685j],\n",
       "       [-0.6434157 +0.51426864j],\n",
       "       [ 0.40831775-0.14051685j],\n",
       "       [ 0.25465972-0.0912135j ]])"
      ]
     },
     "execution_count": 32,
     "metadata": {},
     "output_type": "execute_result"
    }
   ],
   "source": [
    "v1_norm = v1/N\n",
    "v1_norm"
   ]
  },
  {
   "cell_type": "code",
   "execution_count": 33,
   "id": "eefaaf73",
   "metadata": {},
   "outputs": [
    {
     "data": {
      "text/plain": [
       "array([[1.+4.4408921e-16j]])"
      ]
     },
     "execution_count": 33,
     "metadata": {},
     "output_type": "execute_result"
    }
   ],
   "source": [
    "q1_dag_norm @ v1_norm"
   ]
  },
  {
   "cell_type": "markdown",
   "id": "031476f2",
   "metadata": {},
   "source": [
    "## Density Matrix"
   ]
  },
  {
   "cell_type": "code",
   "execution_count": 25,
   "id": "c58c9dad",
   "metadata": {},
   "outputs": [
    {
     "data": {
      "text/plain": [
       "array([[ 0.057+0.046j,  0.091+0.073j, -0.117-0.19j , -0.117-0.001j,\n",
       "         0.091+0.073j,  0.211-0.072j, -0.117-0.001j, -0.073+0.j   ],\n",
       "       [ 0.091+0.073j,  0.147+0.115j, -0.19 -0.3j  , -0.186-0.j   ,\n",
       "         0.147+0.115j,  0.335-0.12j , -0.186-0.j   , -0.117+0.001j],\n",
       "       [-0.117-0.19j , -0.19 -0.3j  ,  0.15 +0.662j,  0.335+0.12j ,\n",
       "        -0.19 -0.3j  , -0.678+0.j   ,  0.335+0.12j ,  0.211+0.072j],\n",
       "       [-0.117-0.001j, -0.186-0.j   ,  0.335+0.12j ,  0.147-0.115j,\n",
       "        -0.186+0.j   , -0.19 +0.3j  ,  0.147-0.115j,  0.091-0.073j],\n",
       "       [ 0.091+0.073j,  0.147+0.115j, -0.19 -0.3j  , -0.186+0.j   ,\n",
       "         0.147+0.115j,  0.335-0.12j , -0.186+0.j   , -0.117+0.001j],\n",
       "       [ 0.211-0.072j,  0.335-0.12j , -0.678+0.j   , -0.19 +0.3j  ,\n",
       "         0.335-0.12j ,  0.15 -0.662j, -0.19 +0.3j  , -0.117+0.19j ],\n",
       "       [-0.117-0.001j, -0.186-0.j   ,  0.335+0.12j ,  0.147-0.115j,\n",
       "        -0.186+0.j   , -0.19 +0.3j  ,  0.147-0.115j,  0.091-0.073j],\n",
       "       [-0.073+0.j   , -0.117+0.001j,  0.211+0.072j,  0.091-0.073j,\n",
       "        -0.117+0.001j, -0.117+0.19j ,  0.091-0.073j,  0.057-0.046j]])"
      ]
     },
     "execution_count": 25,
     "metadata": {},
     "output_type": "execute_result"
    }
   ],
   "source": [
    "dm = np.round(v1_norm @ q1_dag_norm,3)\n",
    "dm"
   ]
  }
 ],
 "metadata": {
  "kernelspec": {
   "display_name": "Python 3 (ipykernel)",
   "language": "python",
   "name": "python3"
  },
  "language_info": {
   "codemirror_mode": {
    "name": "ipython",
    "version": 3
   },
   "file_extension": ".py",
   "mimetype": "text/x-python",
   "name": "python",
   "nbconvert_exporter": "python",
   "pygments_lexer": "ipython3",
   "version": "3.8.10"
  }
 },
 "nbformat": 4,
 "nbformat_minor": 5
}
