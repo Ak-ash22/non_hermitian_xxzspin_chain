{
 "cells": [
  {
   "cell_type": "code",
   "execution_count": 1,
   "id": "18b7e6ad",
   "metadata": {},
   "outputs": [],
   "source": [
    "import numpy as np\n",
    "import matplotlib.pyplot as plt"
   ]
  },
  {
   "cell_type": "code",
   "execution_count": 2,
   "id": "5b0cfbfb",
   "metadata": {},
   "outputs": [],
   "source": [
    "I = np.array([[1,0],[0,1]])\n",
    "sx = np.array([[0,1],[1,0]])\n",
    "sy = np.array([[0,-1j],[1j,0]])\n",
    "sz = np.array([[1,0],[0,-1]])\n",
    "\n",
    "sx2 = np.kron(np.kron(I,sx),I)\n",
    "sz2 = np.kron(np.kron(I,sz),I)\n",
    "\n",
    "sx_ab = np.kron(np.kron(sx,I),sx)\n",
    "sy_ab = np.kron(np.kron(sy,I),sy)\n",
    "sz_ab = np.kron(np.kron(sz,I),sz)\n",
    "\n",
    "sx_ac = np.kron(np.kron(sx,sx),I)\n",
    "sy_ac = np.kron(np.kron(sy,sy),I)\n",
    "sz_ac = np.kron(np.kron(sz,sz),I)\n",
    "\n",
    "sx_bc = np.kron(np.kron(I,sx),sx)\n",
    "sy_bc = np.kron(np.kron(I,sy),sy)\n",
    "sz_bc = np.kron(np.kron(I,sz),sz)"
   ]
  },
  {
   "cell_type": "code",
   "execution_count": 10,
   "id": "bd93fcf4",
   "metadata": {},
   "outputs": [],
   "source": [
    "#Basis of subsystem A\n",
    "a0 = np.array([1,0]).reshape(2,1)\n",
    "a1 = np.array([0,1]).reshape(2,1)\n",
    "a0_tilde = np.array([1,0]).reshape(2,1)\n",
    "a1_tilde = np.array([0,1]).reshape(2,1)\n",
    "\n",
    "#Basis of subsystem B\n",
    "b0 = np.array([1,1+1j]).reshape(2,1)\n",
    "b1 = np.array([1-1j,1]).reshape(2,1)\n",
    "b0_tilde = np.array([-1,1+1j]).reshape(2,1)\n",
    "b1_tilde = np.array([1-1j,-1]).reshape(2,1)\n",
    "\n",
    "#Basis of subsystem C\n",
    "c0 = a0\n",
    "c1 = a1\n",
    "c0_tilde = a0_tilde\n",
    "c1_tilde = a1_tilde\n",
    "\n",
    "ket_a0b0c0 = np.kron(a0,np.kron(b0,c0))\n",
    "ket_a0b0c1 = np.kron(a0,np.kron(b0,c1))\n",
    "ket_a0b1c0 = np.kron(a0,np.kron(b1,c0))\n",
    "ket_a0b1c1 = np.kron(a0,np.kron(b1,c1))\n",
    "ket_a1b0c0 = np.kron(a1,np.kron(b0,c0))\n",
    "ket_a1b0c1 = np.kron(a1,np.kron(b0,c1))\n",
    "ket_a1b1c0 = np.kron(a1,np.kron(b1,c0))\n",
    "ket_a1b1c1 = np.kron(a1,np.kron(b1,c1))\n",
    "\n",
    "bra_a0b0c0 = np.kron(a0_tilde,np.kron(b0_tilde,c0_tilde))\n",
    "bra_a0b0c1 = np.kron(a0_tilde,np.kron(b0_tilde,c1_tilde))\n",
    "bra_a0b1c0 = np.kron(a0_tilde,np.kron(b1_tilde,c0_tilde))\n",
    "bra_a0b1c1 = np.kron(a0_tilde,np.kron(b1_tilde,c1_tilde))\n",
    "bra_a1b0c0 = np.kron(a1_tilde,np.kron(b0_tilde,c0_tilde))\n",
    "bra_a1b0c1 = np.kron(a1_tilde,np.kron(b0_tilde,c1_tilde))\n",
    "bra_a1b1c0 = np.kron(a1_tilde,np.kron(b1_tilde,c0_tilde))\n",
    "bra_a1b1c1 = np.kron(a1_tilde,np.kron(b1_tilde,c1_tilde))"
   ]
  },
  {
   "cell_type": "code",
   "execution_count": 13,
   "id": "b3f02fc7",
   "metadata": {},
   "outputs": [],
   "source": [
    "def sigmaz_ketbasis(size,idx):   #size = number of particles\n",
    "    basis = np.zeros(2**size).reshape(-1,1)\n",
    "    basis[idx] = 1\n",
    "    return basis"
   ]
  },
  {
   "cell_type": "code",
   "execution_count": 3,
   "id": "9b2ce65f",
   "metadata": {},
   "outputs": [],
   "source": [
    "def H(hx,hz,d):\n",
    "    H = []\n",
    "    for i in range(len(hz)):\n",
    "        H_c = 1j*hz[i]*sz2 + hx[i]*sx2\n",
    "        H_ab = sx_ab + sy_ab + d[i]*sz_ab\n",
    "        H_bc = sx_bc + sy_bc + d[i]*sz_bc\n",
    "        H_ac = sx_ac + sy_ac + d[i]*sz_ac\n",
    "        H_t = H_c + H_ab + H_bc + H_ac\n",
    "        H.append(H_t)\n",
    "    return H"
   ]
  },
  {
   "cell_type": "code",
   "execution_count": 4,
   "id": "f6fcd237",
   "metadata": {},
   "outputs": [],
   "source": [
    "def rho_c(ket_psi,ket_phi):\n",
    "    sigma_z = np.array([[1,0],[0,-1]])\n",
    "    I = np.array([[1,0],[0,1]])\n",
    "    Sminus = np.array([[0,0],[1,0]])\n",
    "    sigma_cz = np.kron(np.kron(I,sigma_z),I)\n",
    "    Sminus_cz = np.kron(np.kron(I,Sminus),I)\n",
    "    I_cz = np.kron(np.kron(I,I),I)\n",
    "    a = 0.5*(np.conj(ket_psi).T @ (I_cz+sigma_cz) @ ket_psi)\n",
    "    b = np.conj(ket_psi).T @ Sminus_cz @ ket_psi\n",
    "    rho_rc = np.array([[a,b],[np.conj(b),1-a]]).reshape(2,2)\n",
    "    \n",
    "    c = 0.5*(np.conj(ket_phi).T @ (I_cz+sigma_cz) @ ket_phi)\n",
    "    d = np.conj(ket_phi).T @ Sminus_cz @ ket_phi\n",
    "    rho_lc = np.array([[c,d],[np.conj(d),1-c]]).reshape(2,2)\n",
    "    return rho_rc, rho_lc"
   ]
  },
  {
   "cell_type": "code",
   "execution_count": 11,
   "id": "1bbb5994",
   "metadata": {},
   "outputs": [],
   "source": [
    "def partial_trace(rho,idx1,idx2): #idx1(idx2) = no of particles to be traced towards left(right)\n",
    "    particles = int(np.log2(rho.shape[0]))\n",
    "    rdm = np.zeros((particles-idx1-idx2,particles-idx1-idx2))\n",
    "    mid = np.eye(2**(particles-idx1-idx2))\n",
    "    for i in range(2**idx1):\n",
    "        for j in range(2**idx2):\n",
    "            basis1 = sigmaz_ketbasis(idx1,i)\n",
    "            basis2 = sigmaz_ketbasis(idx2,j)\n",
    "            rdm = rdm + np.kron(basis1.T,np.kron(mid,basis2.T)) @ rho @ np.kron(basis1,np.kron(mid,basis2))\n",
    "    return rdm"
   ]
  },
  {
   "cell_type": "code",
   "execution_count": 5,
   "id": "ae1dec38",
   "metadata": {},
   "outputs": [],
   "source": [
    "def Entropy(rdm_c):\n",
    "    lmbda = np.linalg.eigvals(rdm_c)\n",
    "    S = 0\n",
    "    for i in range(len(lmbda)):\n",
    "        k = lmbda[i]\n",
    "        if np.round(k,4) == 0 or np.round(k,4) == -0:\n",
    "            S = S - 0\n",
    "        else:\n",
    "            S = S - k*np.log2(k)           \n",
    "    return S"
   ]
  },
  {
   "cell_type": "code",
   "execution_count": 6,
   "id": "a9c98d34",
   "metadata": {},
   "outputs": [],
   "source": [
    "def S_c(H):\n",
    "    S_rc = []\n",
    "    S_lc = []\n",
    "    for i in range(len(H)):    \n",
    "        ket_psi, ket_phi = eigvectors(H[i])\n",
    "        rdm_rc, rdm_lc = rho_c(ket_psi,ket_phi)\n",
    "        S_rc.append(Entropy(rdm_rc))\n",
    "        S_lc.append(Entropy(rdm_lc))\n",
    "    return S_rc, S_lc"
   ]
  },
  {
   "cell_type": "code",
   "execution_count": 8,
   "id": "a1c8285d",
   "metadata": {},
   "outputs": [],
   "source": [
    "def gs_eigvectors(H):\n",
    "    H_dag = np.conj(H).T\n",
    "    e,psi = np.linalg.eig(H)\n",
    "    f,phi = np.linalg.eig(H_dag)\n",
    "    ket_psi = psi[:,np.argmin(e)].reshape(8,1)\n",
    "    ket_phi = phi[:,np.argmin(f)].reshape(8,1)\n",
    "    return ket_psi, ket_phi"
   ]
  },
  {
   "cell_type": "code",
   "execution_count": 9,
   "id": "8d5a2359",
   "metadata": {},
   "outputs": [],
   "source": [
    "def bi_rho_c(dm1):\n",
    "    p = 0.5*((np.conj(bra_a0b0c0).T @ dm1 @ ket_a0b0c0) + (np.conj(bra_a0b0c1).T @ dm1 @ ket_a0b0c1) \n",
    "    + (np.conj(bra_a1b0c0).T @ dm1 @ ket_a1b0c0) + (np.conj(bra_a1b0c1).T @ dm1 @ ket_a1b0c1))\n",
    "    s = 0.5*((np.conj(bra_a0b1c0).T @ dm1 @ ket_a0b1c0) + (np.conj(bra_a0b1c1).T @ dm1 @ ket_a0b1c1) \n",
    "    + (np.conj(bra_a1b1c0).T @ dm1 @ ket_a1b1c0) + (np.conj(bra_a1b1c1).T @ dm1 @ ket_a1b1c1))\n",
    "    q = 0.5*((np.conj(bra_a0b0c0).T @ dm1 @ ket_a0b1c0) + (np.conj(bra_a0b0c1).T @ dm1 @ ket_a0b1c1) \n",
    "    + (np.conj(bra_a1b0c0).T @ dm1 @ ket_a1b1c0) + (np.conj(bra_a1b0c1).T @ dm1 @ ket_a1b1c1))\n",
    "    r = 0.5*((np.conj(bra_a0b1c0).T @ dm1 @ ket_a0b0c0) + (np.conj(bra_a0b1c1).T @ dm1 @ ket_a0b0c1) \n",
    "    + (np.conj(bra_a1b1c0).T @ dm1 @ ket_a1b0c0) + (np.conj(bra_a1b1c1).T @ dm1 @ ket_a1b0c1))\n",
    "    return np.array([[p,q],[r,s]]).reshape(2,2)"
   ]
  },
  {
   "cell_type": "code",
   "execution_count": null,
   "id": "1d0b727e",
   "metadata": {},
   "outputs": [],
   "source": []
  }
 ],
 "metadata": {
  "kernelspec": {
   "display_name": "Python 3 (ipykernel)",
   "language": "python",
   "name": "python3"
  },
  "language_info": {
   "codemirror_mode": {
    "name": "ipython",
    "version": 3
   },
   "file_extension": ".py",
   "mimetype": "text/x-python",
   "name": "python",
   "nbconvert_exporter": "python",
   "pygments_lexer": "ipython3",
   "version": "3.8.10"
  }
 },
 "nbformat": 4,
 "nbformat_minor": 5
}
