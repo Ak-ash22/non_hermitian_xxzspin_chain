{
 "cells": [
  {
   "cell_type": "code",
   "execution_count": 1,
   "id": "803ede2b",
   "metadata": {},
   "outputs": [],
   "source": [
    "%run my_functions.ipynb"
   ]
  },
  {
   "cell_type": "markdown",
   "id": "bbbc01db",
   "metadata": {},
   "source": [
    "### D = 1"
   ]
  },
  {
   "cell_type": "code",
   "execution_count": 2,
   "id": "c3b52ed6",
   "metadata": {},
   "outputs": [],
   "source": [
    "hx = [4]*100\n",
    "hz = np.linspace(-hx[0],hx[0],100,endpoint=False)\n",
    "d = [1]*100\n",
    "hzhx = []\n",
    "for i in range(len(hx)):\n",
    "    hzhx.append(hz[i]/hx[i])"
   ]
  },
  {
   "cell_type": "code",
   "execution_count": null,
   "id": "73433a27",
   "metadata": {},
   "outputs": [],
   "source": [
    "H = Hamiltonian(7,4,hx,hz,d)\n",
    "S = biorthogonal_entropy()"
   ]
  }
 ],
 "metadata": {
  "kernelspec": {
   "display_name": "Python 3 (ipykernel)",
   "language": "python",
   "name": "python3"
  },
  "language_info": {
   "codemirror_mode": {
    "name": "ipython",
    "version": 3
   },
   "file_extension": ".py",
   "mimetype": "text/x-python",
   "name": "python",
   "nbconvert_exporter": "python",
   "pygments_lexer": "ipython3",
   "version": "3.8.10"
  }
 },
 "nbformat": 4,
 "nbformat_minor": 5
}
