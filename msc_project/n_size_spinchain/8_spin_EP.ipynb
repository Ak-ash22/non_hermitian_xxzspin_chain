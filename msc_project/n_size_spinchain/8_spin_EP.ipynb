{
 "cells": [
  {
   "cell_type": "code",
   "execution_count": 1,
   "id": "7560fc08",
   "metadata": {},
   "outputs": [],
   "source": [
    "%run my_functions_generalized.ipynb"
   ]
  },
  {
   "cell_type": "code",
   "execution_count": null,
   "id": "6964b013",
   "metadata": {},
   "outputs": [],
   "source": [
    "a = [-1,-0.5,0,1,2,10]\n",
    "for k in range(len(a)):\n",
    "    hz = np.linspace(-4,4,1000,True)\n",
    "    hx =[4]*1000\n",
    "    D = [a[k]]*1000\n",
    "    hzhx = []\n",
    "    #hxD = []\n",
    "    hx_plot = []\n",
    "    hz_plot = []\n",
    "    lmbda_real = []\n",
    "    lmbda_im = []\n",
    "    coords = [hzhx,lmbda_im]\n",
    "    for i in range(len(hx)):\n",
    "        j = 2**8\n",
    "        while j!=0:\n",
    "            #Dhx.append(D[i]/hx[i])\n",
    "            #hxD.append(hx[i]*D[i])\n",
    "            hx_plot.append(hx[i])\n",
    "            hz_plot.append(hz[i])\n",
    "            hzhx.append(hz[i]/hx[i])\n",
    "            j-=1  \n",
    "    #print(np.shape(hzhx))\n",
    "    H_t = Hamiltonian(8,4,hx,hz,D)\n",
    "    for p in range(len(H_t)):\n",
    "        lmbda = np.linalg.eigvals(H_t[p])\n",
    "        for k in range(len(lmbda)):\n",
    "            lmbda_real.append(lmbda.real[k])\n",
    "            lmbda_im.append(np.round(lmbda.imag[k],5))\n",
    "    #print(np.round(hzD,4))\n",
    "    plt.scatter(hzhx,lmbda_im,s=5)\n",
    "    plt.ylabel('imaginary roots')\n",
    "    plt.xlabel('hz/hx')\n",
    "    plt.title('D = {}'.format(D[i]))\n",
    "    plt.show()"
   ]
  }
 ],
 "metadata": {
  "kernelspec": {
   "display_name": "Python 3 (ipykernel)",
   "language": "python",
   "name": "python3"
  },
  "language_info": {
   "codemirror_mode": {
    "name": "ipython",
    "version": 3
   },
   "file_extension": ".py",
   "mimetype": "text/x-python",
   "name": "python",
   "nbconvert_exporter": "python",
   "pygments_lexer": "ipython3",
   "version": "3.8.10"
  }
 },
 "nbformat": 4,
 "nbformat_minor": 5
}
