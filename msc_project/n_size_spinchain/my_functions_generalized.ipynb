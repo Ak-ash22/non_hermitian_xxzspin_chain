{
 "cells": [
  {
   "cell_type": "code",
   "execution_count": 1,
   "id": "25d5530e",
   "metadata": {},
   "outputs": [],
   "source": [
    "import numpy as np\n",
    "import matplotlib.pyplot as plt\n",
    "import scipy"
   ]
  },
  {
   "cell_type": "code",
   "execution_count": 2,
   "id": "72910999",
   "metadata": {},
   "outputs": [],
   "source": [
    "I = np.array([[1,0],[0,1]])\n",
    "sx = np.array([[0,1],[1,0]])\n",
    "sy = np.array([[0,-1j],[1j,0]])\n",
    "sz = np.array([[1,0],[0,-1]])\n",
    "\n",
    "sx2 = np.kron(np.kron(I,sx),I)\n",
    "sz2 = np.kron(np.kron(I,sz),I)\n",
    "\n",
    "sx_ab = np.kron(np.kron(sx,I),sx)\n",
    "sy_ab = np.kron(np.kron(sy,I),sy)\n",
    "sz_ab = np.kron(np.kron(sz,I),sz)\n",
    "\n",
    "sx_ac = np.kron(np.kron(sx,sx),I)\n",
    "sy_ac = np.kron(np.kron(sy,sy),I)\n",
    "sz_ac = np.kron(np.kron(sz,sz),I)\n",
    "\n",
    "sx_bc = np.kron(np.kron(I,sx),sx)\n",
    "sy_bc = np.kron(np.kron(I,sy),sy)\n",
    "sz_bc = np.kron(np.kron(I,sz),sz)"
   ]
  },
  {
   "cell_type": "markdown",
   "id": "78a7e46d",
   "metadata": {},
   "source": [
    "## Basis"
   ]
  },
  {
   "cell_type": "code",
   "execution_count": 3,
   "id": "381fec46",
   "metadata": {},
   "outputs": [],
   "source": [
    "#Computational basis\n",
    "def sigmaz_basis(size,idx):   #size = number of particles\n",
    "    basis = np.zeros(2**size).reshape(-1,1)\n",
    "    basis[idx] = 1\n",
    "    return basis\n",
    "\n",
    "#Non hermitian spin(B) basis\n",
    "b0 = np.array([1,1+1j]).reshape(2,1)\n",
    "b1 = np.array([1-1j,1]).reshape(2,1)\n",
    "b0_tilde = np.array([-1,1+1j]).reshape(2,1)\n",
    "b1_tilde = np.array([1-1j,-1]).reshape(2,1)\n",
    "ket_b = [b0,b1]\n",
    "bra_b = [np.conj(b0_tilde).T,np.conj(b1_tilde).T]"
   ]
  },
  {
   "cell_type": "code",
   "execution_count": 4,
   "id": "7c6601f6",
   "metadata": {},
   "outputs": [],
   "source": [
    "#Biorthogonal Basis for system\n",
    "def biorthogonal_basis(size,idx1,idx2):  #size = number of particles\n",
    "    ket_basis = []\n",
    "    bra_basis = []\n",
    "    for i in range(2**idx1):\n",
    "        for j in range(2**idx2):\n",
    "            for k in range(2):\n",
    "                basis1 = np.kron(sigmaz_basis(idx1,i),np.kron(ket_b[k],sigmaz_basis(idx2,j)))\n",
    "                basis2 = np.kron(np.conj(sigmaz_basis(idx1,i)).T,np.kron(bra_b[k],np.conj(sigmaz_basis(idx2,j)).T))\n",
    "                ket_basis.append(basis1)\n",
    "                bra_basis.append(basis2)\n",
    "    return ket_basis,bra_basis"
   ]
  },
  {
   "cell_type": "markdown",
   "id": "a6108dfa",
   "metadata": {},
   "source": [
    "## Hamiltonian"
   ]
  },
  {
   "cell_type": "code",
   "execution_count": 5,
   "id": "599cfcc0",
   "metadata": {},
   "outputs": [],
   "source": [
    "def I(idx):\n",
    "    I = np.array([[1,0],[0,1]]).reshape(2,2)\n",
    "    I_matrix = 1\n",
    "    while idx>0:\n",
    "        I_matrix = np.kron(I,I_matrix)\n",
    "        idx-=1\n",
    "    return I_matrix"
   ]
  },
  {
   "cell_type": "code",
   "execution_count": 6,
   "id": "e84107d8",
   "metadata": {},
   "outputs": [],
   "source": [
    "def Hamiltonian(size,idx,hx,hz,d):   #size = number of particles ; idx = position of non-hermitian spin\n",
    "    H = []\n",
    "    sx = np.array([[0,1],[1,0]]).reshape(2,2)\n",
    "    sy = np.array([[0,-1j],[1j,0]]).reshape(2,2)\n",
    "    sz = np.array([[1,0],[0,-1]]).reshape(2,2)\n",
    "    sxsx = np.kron(sx,sx)\n",
    "    sysy = np.kron(sy,sy)\n",
    "    szsz = np.kron(sz,sz)\n",
    "    SXSX = []\n",
    "    SYSY = []\n",
    "    SZSZ = []\n",
    "    for i in range(size-1):\n",
    "        SX = np.kron(I(i),np.kron(sxsx,I(size-i-2)))\n",
    "        SY = np.kron(I(i),np.kron(sysy,I(size-i-2)))\n",
    "        SZ = np.kron(I(i),np.kron(szsz,I(size-i-2)))\n",
    "        if (size % 2) == 0:                                                #For even size\n",
    "            if(idx > size/2):\n",
    "                SZ_nonherm = np.kron(I(size/2),np.kron(sz,I((size/2)-1)))\n",
    "                SX_nonherm = np.kron(I(size/2),np.kron(sx,I((size/2)-1)))\n",
    "            else:\n",
    "                SZ_nonherm = np.kron(I((size/2)-1),np.kron(sz,I(size/2)))\n",
    "                SX_nonherm = np.kron(I((size/2)-1),np.kron(sx,I(size/2)))\n",
    "        else:\n",
    "            SZ_nonherm = np.kron(I((size-1)/2),np.kron(sz,I((size-1)/2)))  #For odd size only\n",
    "            SX_nonherm = np.kron(I((size-1)/2),np.kron(sx,I((size-1)/2)))  #For odd size only\n",
    "        SXSX.append(SX)\n",
    "        SYSY.append(SY)\n",
    "        SZSZ.append(SZ)\n",
    "        i+=1\n",
    "# Interaction terms in hamiltonian\n",
    "    \n",
    "    for k in range(len(hz)): \n",
    "        H_int = 0\n",
    "        for i in range(len(SXSX)):\n",
    "            H_int = H_int + SXSX[i] + SYSY[i] + d[k]*SZSZ[i]\n",
    "    \n",
    "# Non-hermitian term of hamiltonian\n",
    "        H_nonherm = 1j*hz[k]*SZ_nonherm + hx[k]*SX_nonherm\n",
    "    \n",
    "#Periodic boundary term of hamiltonian\n",
    "        SX_pb = np.kron(sx,np.kron(I(size-2),sx))\n",
    "        SY_pb = np.kron(sy,np.kron(I(size-2),sy))\n",
    "        SZ_pb = np.kron(sz,np.kron(I(size-2),sz))\n",
    "        H_pb = SX_pb + SY_pb + d[k]*SZ_pb\n",
    "    \n",
    "#Total hamiltonian    \n",
    "        H_t = H_int + H_nonherm + H_pb\n",
    "        H.append(H_t)\n",
    "    return(H)"
   ]
  },
  {
   "cell_type": "code",
   "execution_count": 7,
   "id": "27353eb1",
   "metadata": {},
   "outputs": [],
   "source": [
    "def eigvectors(H):\n",
    "    H_dag = np.conj(H).T\n",
    "    e,psi = np.linalg.eig(H)\n",
    "    f,phi = np.linalg.eig(H_dag)\n",
    "    ket_psi = psi[:,np.argmin(e)].reshape(-1,1)\n",
    "    ket_phi = phi[:,np.argmin(f)].reshape(-1,1)\n",
    "    return ket_psi, ket_phi"
   ]
  },
  {
   "cell_type": "markdown",
   "id": "a09c2180",
   "metadata": {},
   "source": [
    "## Biorthogonal rdm"
   ]
  },
  {
   "cell_type": "code",
   "execution_count": 8,
   "id": "ff37dbc9",
   "metadata": {},
   "outputs": [],
   "source": [
    "def bi_rho_c(dm,idx1,idx2):\n",
    "    p,q,r,s = 0,0,0,0\n",
    "    for i in range(2**idx1):\n",
    "        for j in range(2**idx2):\n",
    "            p = p + 0.5*(np.kron(np.conj(sigmaz_basis(idx1,i)).T,np.kron(bra_b[0],np.conj(sigmaz_basis(idx2,j)).T)) @ dm \n",
    "                 @ np.kron(sigmaz_basis(idx1,i),np.kron(ket_b[0],sigmaz_basis(idx2,j))))\n",
    "            q = q + 0.5*(np.kron(np.conj(sigmaz_basis(idx1,i)).T,np.kron(bra_b[0],np.conj(sigmaz_basis(idx2,j)).T)) @ dm \n",
    "                 @ np.kron(sigmaz_basis(idx1,i),np.kron(ket_b[1],sigmaz_basis(idx2,j))))\n",
    "            r = r + 0.5*(np.kron(np.conj(sigmaz_basis(idx1,i)).T,np.kron(bra_b[1],np.conj(sigmaz_basis(idx2,j)).T)) @ dm \n",
    "                 @ np.kron(sigmaz_basis(idx1,i),np.kron(ket_b[0],sigmaz_basis(idx2,j))))\n",
    "            s = s + 0.5*(np.kron(np.conj(sigmaz_basis(idx1,i)).T,np.kron(bra_b[1],np.conj(sigmaz_basis(idx2,j)).T)) @ dm \n",
    "                 @ np.kron(sigmaz_basis(idx1,i),np.kron(ket_b[1],sigmaz_basis(idx2,j))))\n",
    "    return np.array([[p,q],[r,s]]).reshape(2,2)"
   ]
  },
  {
   "cell_type": "markdown",
   "id": "02042d28",
   "metadata": {},
   "source": [
    "## Entanglement Entropy"
   ]
  },
  {
   "cell_type": "code",
   "execution_count": 9,
   "id": "1e2ce704",
   "metadata": {},
   "outputs": [],
   "source": [
    "def Entropy(rdm_c):\n",
    "    lmbda = np.linalg.eigvals(rdm_c)\n",
    "    S = 0\n",
    "    for i in range(len(lmbda)):\n",
    "        k = lmbda[i]\n",
    "        if np.round(k,4) == 0 or np.round(k,4) == -0:\n",
    "            S = S - 0\n",
    "        else:\n",
    "            S = S - k*np.log2(k)  \n",
    "    return S"
   ]
  },
  {
   "cell_type": "code",
   "execution_count": 10,
   "id": "c72f75ab",
   "metadata": {},
   "outputs": [],
   "source": [
    "def biorthogonal_entropy(H,idx1,idx2):\n",
    "    S_c = []\n",
    "    for i in range(len(H)):\n",
    "        ket_psi, ket_phi = eigvectors(H[i])\n",
    "        N = np.sqrt(np.conj(ket_phi).T @ ket_psi)\n",
    "        dm = (ket_psi/N) @ (np.conj(ket_phi).T/N)\n",
    "        rdm_c = bi_rho_c(dm,idx1,idx2)\n",
    "        #print(rdm_c)\n",
    "        #print(N)\n",
    "        S_c.append(Entropy(rdm_c))\n",
    "    return(np.round(S_c,5))              #returns S_c rounded to 5 decimal places"
   ]
  },
  {
   "cell_type": "markdown",
   "id": "fff3add9",
   "metadata": {},
   "source": [
    "## Time evolution"
   ]
  },
  {
   "cell_type": "code",
   "execution_count": 11,
   "id": "e4446f9c",
   "metadata": {},
   "outputs": [],
   "source": [
    "def plot_entropy_t(n,idx,idx1,idx2,hx,hz,d):\n",
    "    \n",
    "    #Intially at t=0 let psi be all spin up states\n",
    "    ket_0 = np.array([0,1]).reshape(2,1)\n",
    "    ket_1 = np.array([1,0]).reshape(2,1)\n",
    "    psi_t0 = 1\n",
    "    p=n\n",
    "    while p>0:\n",
    "        psi_t0 = np.kron(psi_t0,ket_1)\n",
    "        p-=1\n",
    "    H = Hamiltonian(n,idx,hx,hz,d)\n",
    "    H_dag = []\n",
    "    for i in range(len(H)):\n",
    "        Hdagger = np.conj(H[i]).T\n",
    "        H_dag.append(Hdagger)\n",
    "        \n",
    "    ket_psi_gs = []\n",
    "    bra_phi_gs = []\n",
    "    for j in range(len(H)):\n",
    "        psi,phi = eigvectors(H[j])\n",
    "        ket_psi_gs.append(psi)\n",
    "        bra_phi_gs.append(np.conj(phi).T)\n",
    "        \n",
    "    S_gs = []    \n",
    "    for k in range(len(H)):\n",
    "        t = np.linspace(0,100,100,endpoint=True)\n",
    "        S = []\n",
    "        for i in range(len(t)):\n",
    "            ket_psi = scipy.linalg.expm(-1j*H[k]*t[i])@psi_t0\n",
    "            bra_psi = (np.conj(psi_t0).T)@scipy.linalg.expm(1j*H_dag[k]*t[i])\n",
    "            N = np.sqrt(bra_psi @ ket_psi)\n",
    "            rho = (ket_psi/N) @ (bra_psi/N)\n",
    "            rdm_c = bi_rho_c(rho,idx1,idx2)\n",
    "            S.append(np.round(Entropy(rdm_c),5))\n",
    "            #S_ground = biorthogonal_entropy(H,idx1,idx2)\n",
    "            #S_gs.append(S_ground)\n",
    "            #print(S_ground)\n",
    "        #print(S_gs)    \n",
    "        plt.plot(t,S,color='b')\n",
    "        #plt.plot(t,S_gs,color='g')\n",
    "        plt.title('Entropy dynamics : (n,hz) = ({},{})'.format(n,hz[k]))\n",
    "        plt.xlabel('time')\n",
    "        plt.ylabel('Entanglement entropy')\n",
    "        plt.ylim(0,2)\n",
    "        plt.show()"
   ]
  }
 ],
 "metadata": {
  "kernelspec": {
   "display_name": "Python 3 (ipykernel)",
   "language": "python",
   "name": "python3"
  },
  "language_info": {
   "codemirror_mode": {
    "name": "ipython",
    "version": 3
   },
   "file_extension": ".py",
   "mimetype": "text/x-python",
   "name": "python",
   "nbconvert_exporter": "python",
   "pygments_lexer": "ipython3",
   "version": "3.8.10"
  }
 },
 "nbformat": 4,
 "nbformat_minor": 5
}
