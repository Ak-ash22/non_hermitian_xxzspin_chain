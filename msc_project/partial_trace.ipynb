{
 "cells": [
  {
   "cell_type": "code",
   "execution_count": 1,
   "id": "5cbabd1b",
   "metadata": {},
   "outputs": [],
   "source": [
    "import numpy as np\n",
    "import qutip\n",
    "from qutip import Qobj\n",
    "import matplotlib.pyplot as plt\n",
    "import qiskit\n",
    "import qiskit.quantum_info as qi\n",
    "%run my_functions.ipynb"
   ]
  },
  {
   "cell_type": "code",
   "execution_count": 2,
   "id": "6b5eea27",
   "metadata": {},
   "outputs": [],
   "source": [
    "psi = np.array([[ 0.01143251+0.00506275j],\n",
    " [-0.43682532+0.02052994j],\n",
    " [-0.09293022-0.05482747j],\n",
    " [-0.022865  +0.5348183j ],\n",
    " [ 0.54494378+0.j        ],\n",
    " [ 0.03196246-0.1030557j ],\n",
    " [-0.04339499-0.44695084j],\n",
    " [-0.00506275+0.01143251j]])"
   ]
  },
  {
   "cell_type": "code",
   "execution_count": 3,
   "id": "0a075373",
   "metadata": {},
   "outputs": [],
   "source": [
    "phi = np.array([[ 0.01143251-0.00506275j],\n",
    " [-0.43682532-0.02052994j],\n",
    " [-0.09293022+0.05482747j],\n",
    " [-0.022865  -0.5348183j ],\n",
    " [ 0.54494378+0.j        ],\n",
    " [ 0.03196246+0.1030557j ],\n",
    " [-0.04339499+0.44695084j],\n",
    " [-0.00506275-0.01143251j]])"
   ]
  },
  {
   "cell_type": "code",
   "execution_count": 15,
   "id": "49eb651c",
   "metadata": {},
   "outputs": [
    {
     "data": {
      "text/plain": [
       "array([[0.00011363+0.00021432j]])"
      ]
     },
     "execution_count": 15,
     "metadata": {},
     "output_type": "execute_result"
    }
   ],
   "source": [
    "N = np.sqrt(np.conj(phi).T @ psi)\n",
    "N"
   ]
  },
  {
   "cell_type": "markdown",
   "id": "84696108",
   "metadata": {},
   "source": [
    "## Basis of psi, phi"
   ]
  },
  {
   "cell_type": "markdown",
   "id": "429200da",
   "metadata": {},
   "source": [
    "# A -- B -- C"
   ]
  },
  {
   "cell_type": "code",
   "execution_count": 16,
   "id": "76e1bd19",
   "metadata": {},
   "outputs": [],
   "source": [
    "#Basis of subsystem A\n",
    "a0 = np.array([1,0]).reshape(2,1)\n",
    "a1 = np.array([1,1]).reshape(2,1)\n",
    "a0_tilde = np.array([1,-1]).reshape(2,1)\n",
    "a1_tilde = np.array([0,1]).reshape(2,1)\n",
    "\n",
    "#Basis of subsystem B\n",
    "b0 = np.array([1,1+1j]).reshape(2,1)\n",
    "b1 = np.array([1-1j,1]).reshape(2,1)\n",
    "b0_tilde = np.array([-1,1+1j]).reshape(2,1)\n",
    "b1_tilde = np.array([1-1j,-1]).reshape(2,1)\n",
    "\n",
    "#Basis of subsystem C\n",
    "c0 = a0\n",
    "c1 = a1\n",
    "c0_tilde = a0_tilde\n",
    "c1_tilde = a1_tilde"
   ]
  },
  {
   "cell_type": "code",
   "execution_count": 17,
   "id": "45121591",
   "metadata": {},
   "outputs": [
    {
     "data": {
      "text/plain": [
       "array([[2.+2.j]])"
      ]
     },
     "execution_count": 17,
     "metadata": {},
     "output_type": "execute_result"
    }
   ],
   "source": [
    "np.conj(b1).T @ b0"
   ]
  },
  {
   "cell_type": "code",
   "execution_count": 6,
   "id": "eef0a51e",
   "metadata": {},
   "outputs": [],
   "source": [
    "ket_a0b0c0 = np.kron(a0,np.kron(b0,c0))\n",
    "ket_a0b0c1 = np.kron(a0,np.kron(b0,c1))\n",
    "ket_a0b1c0 = np.kron(a0,np.kron(b1,c0))\n",
    "ket_a0b1c1 = np.kron(a0,np.kron(b1,c1))\n",
    "ket_a1b0c0 = np.kron(a1,np.kron(b0,c0))\n",
    "ket_a1b0c1 = np.kron(a1,np.kron(b0,c1))\n",
    "ket_a1b1c0 = np.kron(a1,np.kron(b1,c0))\n",
    "ket_a1b1c1 = np.kron(a1,np.kron(b1,c1))"
   ]
  },
  {
   "cell_type": "code",
   "execution_count": 7,
   "id": "9c2d60b0",
   "metadata": {},
   "outputs": [],
   "source": [
    "bra_a0b0c0 = np.kron(a0_tilde,np.kron(b0_tilde,c0_tilde))\n",
    "bra_a0b0c1 = np.kron(a0_tilde,np.kron(b0_tilde,c1_tilde))\n",
    "bra_a0b1c0 = np.kron(a0_tilde,np.kron(b1_tilde,c0_tilde))\n",
    "bra_a0b1c1 = np.kron(a0_tilde,np.kron(b1_tilde,c1_tilde))\n",
    "bra_a1b0c0 = np.kron(a1_tilde,np.kron(b0_tilde,c0_tilde))\n",
    "bra_a1b0c1 = np.kron(a1_tilde,np.kron(b0_tilde,c1_tilde))\n",
    "bra_a1b1c0 = np.kron(a1_tilde,np.kron(b1_tilde,c0_tilde))\n",
    "bra_a1b1c1 = np.kron(a1_tilde,np.kron(b1_tilde,c1_tilde))"
   ]
  },
  {
   "cell_type": "code",
   "execution_count": 8,
   "id": "e7c2e527",
   "metadata": {},
   "outputs": [
    {
     "data": {
      "text/plain": [
       "array([[0.00011363+0.00021432j]])"
      ]
     },
     "execution_count": 8,
     "metadata": {},
     "output_type": "execute_result"
    }
   ],
   "source": [
    "N = np.sqrt(np.conj(phi).T @ psi)\n",
    "dm1 = (psi/N) @ ((np.conj(phi).T)/N)\n",
    "N"
   ]
  },
  {
   "cell_type": "code",
   "execution_count": 9,
   "id": "a9308769",
   "metadata": {},
   "outputs": [],
   "source": [
    "p = 0.5*((np.conj(bra_a0b0c0).T @ dm1 @ ket_a0b0c0) + (np.conj(bra_a0b0c1).T @ dm1 @ ket_a0b0c1) \n",
    "    + (np.conj(bra_a1b0c0).T @ dm1 @ ket_a1b0c0) + (np.conj(bra_a1b0c1).T @ dm1 @ ket_a1b0c1))\n",
    "s = 0.5*((np.conj(bra_a0b1c0).T @ dm1 @ ket_a0b1c0) + (np.conj(bra_a0b1c1).T @ dm1 @ ket_a0b1c1) \n",
    "    + (np.conj(bra_a1b1c0).T @ dm1 @ ket_a1b1c0) + (np.conj(bra_a1b1c1).T @ dm1 @ ket_a1b1c1))\n",
    "q = 0.5*((np.conj(bra_a0b0c0).T @ dm1 @ ket_a0b1c0) + (np.conj(bra_a0b0c1).T @ dm1 @ ket_a0b1c1) \n",
    "    + (np.conj(bra_a1b0c0).T @ dm1 @ ket_a1b1c0) + (np.conj(bra_a1b0c1).T @ dm1 @ ket_a1b1c1))\n",
    "r = 0.5*((np.conj(bra_a0b1c0).T @ dm1 @ ket_a0b0c0) + (np.conj(bra_a0b1c1).T @ dm1 @ ket_a0b0c1) \n",
    "    + (np.conj(bra_a1b1c0).T @ dm1 @ ket_a1b0c0) + (np.conj(bra_a1b1c1).T @ dm1 @ ket_a1b0c1))"
   ]
  },
  {
   "cell_type": "code",
   "execution_count": 10,
   "id": "d394603c",
   "metadata": {},
   "outputs": [
    {
     "data": {
      "text/plain": [
       "array([[ 12251278.20693592+16221763.5147732j ,\n",
       "         19534080.47441265 +5626644.03765701j],\n",
       "       [   -67964.25668481-20328177.58598011j,\n",
       "        -12251277.70693591-16221763.5147732j ]])"
      ]
     },
     "execution_count": 10,
     "metadata": {},
     "output_type": "execute_result"
    }
   ],
   "source": [
    "rho_c = np.array([[p,q],[r,s]]).reshape(2,2)\n",
    "rho_c"
   ]
  },
  {
   "cell_type": "code",
   "execution_count": 11,
   "id": "c676586a",
   "metadata": {},
   "outputs": [
    {
     "data": {
      "text/plain": [
       "array([0.45570719-0.14099544j, 0.04429281+0.14099544j])"
      ]
     },
     "execution_count": 11,
     "metadata": {},
     "output_type": "execute_result"
    }
   ],
   "source": [
    "np.linalg.eigvals(rho_c)"
   ]
  },
  {
   "cell_type": "code",
   "execution_count": 12,
   "id": "c91a493f",
   "metadata": {},
   "outputs": [
    {
     "data": {
      "text/plain": [
       "(0.9274571843729243+0.3547012437786656j)"
      ]
     },
     "execution_count": 12,
     "metadata": {},
     "output_type": "execute_result"
    }
   ],
   "source": [
    "Entropy(rho_c)"
   ]
  },
  {
   "cell_type": "code",
   "execution_count": 13,
   "id": "80f94fa5",
   "metadata": {},
   "outputs": [
    {
     "data": {
      "text/plain": [
       "array([[-581063.77725043 +982095.46773146j,\n",
       "         401031.44048102+1563159.49498189j],\n",
       "       [ 781579.74749094 -200515.72024051j,\n",
       "         581064.27725044 -982095.46773146j]])"
      ]
     },
     "execution_count": 13,
     "metadata": {},
     "output_type": "execute_result"
    }
   ],
   "source": [
    "a = 0.5*((np.conj(bra_a0b0c0).T @ dm1 @ ket_a0b0c0) + (np.conj(bra_a0b0c1).T @ dm1 @ ket_a0b0c1) \n",
    "    + (np.conj(bra_a0b1c0).T @ dm1 @ ket_a0b1c0) + (np.conj(bra_a0b1c1).T @ dm1 @ ket_a0b1c1))\n",
    "b = 0.5*((np.conj(bra_a0b0c0).T @ dm1 @ ket_a1b0c0) + (np.conj(bra_a0b0c1).T @ dm1 @ ket_a1b0c1) \n",
    "    + (np.conj(bra_a0b1c0).T @ dm1 @ ket_a1b1c0) + (np.conj(bra_a0b1c1).T @ dm1 @ ket_a1b1c1))\n",
    "c = 0.5*((np.conj(bra_a1b0c0).T @ dm1 @ ket_a0b0c0) + (np.conj(bra_a1b0c1).T @ dm1 @ ket_a0b0c1) \n",
    "    + (np.conj(bra_a1b1c0).T @ dm1 @ ket_a0b1c0) + (np.conj(bra_a1b1c1).T @ dm1 @ ket_a0b1c1))\n",
    "d = 0.5*((np.conj(bra_a1b0c0).T @ dm1 @ ket_a1b0c0) + (np.conj(bra_a1b0c1).T @ dm1 @ ket_a1b0c1) \n",
    "    + (np.conj(bra_a1b1c0).T @ dm1 @ ket_a1b1c0) + (np.conj(bra_a1b1c1).T @ dm1 @ ket_a1b1c1))\n",
    "rho_a = np.array([[a,b],[c,d]]).reshape(2,2)\n",
    "rho_a"
   ]
  },
  {
   "cell_type": "code",
   "execution_count": 14,
   "id": "cec161b3",
   "metadata": {},
   "outputs": [
    {
     "data": {
      "text/plain": [
       "array([0.2168616+0.08431911j, 0.2831384-0.08431911j])"
      ]
     },
     "execution_count": 14,
     "metadata": {},
     "output_type": "execute_result"
    }
   ],
   "source": [
    "np.linalg.eigvals(rho_a)"
   ]
  },
  {
   "cell_type": "code",
   "execution_count": null,
   "id": "6bc10a5a",
   "metadata": {},
   "outputs": [],
   "source": []
  }
 ],
 "metadata": {
  "kernelspec": {
   "display_name": "Python 3 (ipykernel)",
   "language": "python",
   "name": "python3"
  },
  "language_info": {
   "codemirror_mode": {
    "name": "ipython",
    "version": 3
   },
   "file_extension": ".py",
   "mimetype": "text/x-python",
   "name": "python",
   "nbconvert_exporter": "python",
   "pygments_lexer": "ipython3",
   "version": "3.8.10"
  }
 },
 "nbformat": 4,
 "nbformat_minor": 5
}
