{
 "cells": [
  {
   "cell_type": "code",
   "execution_count": 29,
   "id": "5a59ac27",
   "metadata": {},
   "outputs": [],
   "source": [
    "import numpy as np\n",
    "import qiskit\n",
    "from qiskit.quantum_info import DensityMatrix, partial_trace"
   ]
  },
  {
   "cell_type": "code",
   "execution_count": 103,
   "id": "29ac49c0",
   "metadata": {},
   "outputs": [],
   "source": [
    "v1 = [-3.59599360e-17+1.94887014e-17j, -4.33012702e-01+2.50000000e-01j,\n",
    "  1.84726313e-16-7.68525479e-17j,  5.00000000e-01+0.00000000e+00j,\n",
    "  4.33012702e-01-2.50000000e-01j, -7.13213118e-16+6.62531315e-16j,\n",
    " -5.00000000e-01-4.57966998e-16j,  2.70617559e-16-1.34184989e-16j]"
   ]
  },
  {
   "cell_type": "code",
   "execution_count": 69,
   "id": "bd5598fa",
   "metadata": {},
   "outputs": [
    {
     "data": {
      "text/plain": [
       "array([[ 1.67292648e-33+0.00000000e+00j,  2.04432844e-17+5.51128748e-19j,\n",
       "        -8.14050275e-33+8.36463251e-34j, -1.79799680e-17+9.74435070e-18j,\n",
       "        -2.04432844e-17-5.51128748e-19j,  3.85589730e-32+9.92498619e-33j,\n",
       "         1.79799680e-17-9.74435070e-18j, -1.23464813e-32+4.48701184e-34j],\n",
       "       [ 2.04432844e-17-5.51128748e-19j,  2.50000000e-01+0.00000000e+00j,\n",
       "        -9.92019769e-17+1.29034488e-17j, -2.16506351e-01+1.25000000e-01j,\n",
       "        -2.50000000e-01+0.00000000e+00j,  4.74463168e-16+1.08581195e-16j,\n",
       "         2.16506351e-01-1.25000000e-01j, -1.50727088e-16+9.55058510e-18j],\n",
       "       [-8.14050275e-33-8.36463251e-34j, -9.92019769e-17-1.29034488e-17j,\n",
       "         4.00301248e-32+0.00000000e+00j,  9.23631565e-17-3.84262739e-17j,\n",
       "         9.92019769e-17+1.29034488e-17j, -1.82666449e-31-6.75747218e-32j,\n",
       "        -9.23631565e-17+3.84262740e-17j,  6.03026422e-32+3.98984936e-33j],\n",
       "       [-1.79799680e-17-9.74435070e-18j, -2.16506351e-01-1.25000000e-01j,\n",
       "         9.23631565e-17+3.84262739e-17j,  2.50000000e-01+0.00000000e+00j,\n",
       "         2.16506351e-01+1.25000000e-01j, -3.56606559e-16-3.31265657e-16j,\n",
       "        -2.50000000e-01+2.28983499e-16j,  1.35308780e-16+6.70924945e-17j],\n",
       "       [-2.04432844e-17+5.51128748e-19j, -2.50000000e-01+0.00000000e+00j,\n",
       "         9.92019769e-17-1.29034488e-17j,  2.16506351e-01-1.25000000e-01j,\n",
       "         2.50000000e-01+0.00000000e+00j, -4.74463168e-16-1.08581195e-16j,\n",
       "        -2.16506351e-01+1.25000000e-01j,  1.50727088e-16-9.55058510e-18j],\n",
       "       [ 3.85589730e-32-9.92498619e-33j,  4.74463168e-16-1.08581195e-16j,\n",
       "        -1.82666449e-31+6.75747218e-32j, -3.56606559e-16+3.31265657e-16j,\n",
       "        -4.74463168e-16+1.08581195e-16j,  9.47620695e-31+0.00000000e+00j,\n",
       "         3.56606559e-16-3.31265658e-16j, -2.81909750e-31+8.35901128e-32j],\n",
       "       [ 1.79799680e-17+9.74435070e-18j,  2.16506351e-01+1.25000000e-01j,\n",
       "        -9.23631565e-17-3.84262740e-17j, -2.50000000e-01-2.28983499e-16j,\n",
       "        -2.16506351e-01-1.25000000e-01j,  3.56606559e-16+3.31265658e-16j,\n",
       "         2.50000000e-01+0.00000000e+00j, -1.35308779e-16-6.70924945e-17j],\n",
       "       [-1.23464813e-32-4.48701184e-34j, -1.50727088e-16-9.55058510e-18j,\n",
       "         6.03026422e-32-3.98984936e-33j,  1.35308780e-16-6.70924945e-17j,\n",
       "         1.50727088e-16+9.55058510e-18j, -2.81909750e-31-8.35901128e-32j,\n",
       "        -1.35308779e-16+6.70924945e-17j,  9.12394745e-32+0.00000000e+00j]])"
      ]
     },
     "execution_count": 69,
     "metadata": {},
     "output_type": "execute_result"
    }
   ],
   "source": [
    "rho_ = np.outer(v1,np.conj(v1))\n",
    "rho_"
   ]
  },
  {
   "cell_type": "markdown",
   "id": "a9b265ea",
   "metadata": {},
   "source": [
    "## Reduced Density matrix of A"
   ]
  },
  {
   "cell_type": "code",
   "execution_count": 85,
   "id": "9d68387b",
   "metadata": {},
   "outputs": [
    {
     "name": "stdout",
     "output_type": "stream",
     "text": [
      "DensityMatrix([[ 5.00000000e-01+0.00000000e+00j,\n",
      "                -4.96965507e-16-2.13548835e-16j],\n",
      "               [-4.96965507e-16+2.13548835e-16j,\n",
      "                 5.00000000e-01+0.00000000e+00j]],\n",
      "              dims=(2,))\n"
     ]
    }
   ],
   "source": [
    "rho_ac = partial_trace(rho_,[2])\n",
    "rho_a = partial_trace(PT_ac,[1])\n",
    "rho_a"
   ]
  },
  {
   "cell_type": "code",
   "execution_count": 89,
   "id": "a82fa6c4",
   "metadata": {},
   "outputs": [],
   "source": [
    "sigma_z = np.array([[1,0],[0,-1]])\n",
    "I = np.array([[1,0],[0,1]])\n",
    "Sminus = np.array([[0,0],[1,0]])\n",
    "\n",
    "sigma_az = np.kron(np.kron(sigma_z,I),I)\n",
    "I_az = np.kron(np.kron(I,I),I)\n",
    "Sminus_az = np.kron(np.kron(Sminus,I),I)"
   ]
  },
  {
   "cell_type": "code",
   "execution_count": 87,
   "id": "8232344e",
   "metadata": {},
   "outputs": [
    {
     "data": {
      "text/plain": [
       "array([[ 1,  0,  0,  0,  0,  0,  0,  0],\n",
       "       [ 0,  1,  0,  0,  0,  0,  0,  0],\n",
       "       [ 0,  0,  1,  0,  0,  0,  0,  0],\n",
       "       [ 0,  0,  0,  1,  0,  0,  0,  0],\n",
       "       [ 0,  0,  0,  0, -1,  0,  0,  0],\n",
       "       [ 0,  0,  0,  0,  0, -1,  0,  0],\n",
       "       [ 0,  0,  0,  0,  0,  0, -1,  0],\n",
       "       [ 0,  0,  0,  0,  0,  0,  0, -1]])"
      ]
     },
     "execution_count": 87,
     "metadata": {},
     "output_type": "execute_result"
    }
   ],
   "source": [
    "sigma_az"
   ]
  },
  {
   "cell_type": "code",
   "execution_count": 88,
   "id": "758413ec",
   "metadata": {},
   "outputs": [
    {
     "data": {
      "text/plain": [
       "(0.5000000000933409+0j)"
      ]
     },
     "execution_count": 88,
     "metadata": {},
     "output_type": "execute_result"
    }
   ],
   "source": [
    "a = 0.5*(np.inner(np.conj(v1).T, np.matmul(I_az+sigma_az,v1)))\n",
    "a"
   ]
  },
  {
   "cell_type": "code",
   "execution_count": 94,
   "id": "d8e92ca0",
   "metadata": {},
   "outputs": [
    {
     "data": {
      "text/plain": [
       "(4.969655066759178e-16+2.1354883506944846e-16j)"
      ]
     },
     "execution_count": 94,
     "metadata": {},
     "output_type": "execute_result"
    }
   ],
   "source": [
    "M = np.matmul(Sminus_az,sigma_az)\n",
    "#b = 0.5*(np.inner(np.conj(v1).T, np.matmul(Sminus_az+M,v1)))\n",
    "b = np.inner(np.conj(v1).T,np.matmul(Sminus_az,v1))\n",
    "b"
   ]
  },
  {
   "cell_type": "markdown",
   "id": "df3124b4",
   "metadata": {},
   "source": [
    "## Reduced density matrix of C"
   ]
  },
  {
   "cell_type": "code",
   "execution_count": 97,
   "id": "496cadc6",
   "metadata": {},
   "outputs": [],
   "source": [
    "sigma_cz = np.kron(np.kron(I,sigma_z),I)\n",
    "Sminus_cz = np.kron(np.kron(I,Sminus),I)\n",
    "I_cz = I_az"
   ]
  },
  {
   "cell_type": "code",
   "execution_count": 96,
   "id": "36c25840",
   "metadata": {},
   "outputs": [
    {
     "data": {
      "text/plain": [
       "(0.5000000001866817+0j)"
      ]
     },
     "execution_count": 96,
     "metadata": {},
     "output_type": "execute_result"
    }
   ],
   "source": [
    "p = 0.5*(np.inner(np.conj(v1).T, np.matmul(I_az+sigma_cz,v1)))\n",
    "p"
   ]
  },
  {
   "cell_type": "code",
   "execution_count": 98,
   "id": "cd1dea76",
   "metadata": {},
   "outputs": [
    {
     "data": {
      "text/plain": [
       "(-0.4330127019999999+0.2500000000000002j)"
      ]
     },
     "execution_count": 98,
     "metadata": {},
     "output_type": "execute_result"
    }
   ],
   "source": [
    "q = np.inner(np.conj(v1).T, np.matmul(Sminus_cz,v1))\n",
    "q"
   ]
  },
  {
   "cell_type": "code",
   "execution_count": 99,
   "id": "287caa3b",
   "metadata": {},
   "outputs": [
    {
     "data": {
      "text/plain": [
       "array([[ 0.5      +0.j  , -0.4330127+0.25j],\n",
       "       [-0.4330127-0.25j,  0.5      +0.j  ]])"
      ]
     },
     "execution_count": 99,
     "metadata": {},
     "output_type": "execute_result"
    }
   ],
   "source": [
    "rho_c = np.array([[p,q],[np.conj(q),1-p]])\n",
    "rho_c"
   ]
  },
  {
   "cell_type": "code",
   "execution_count": 105,
   "id": "1eaf0015",
   "metadata": {},
   "outputs": [],
   "source": [
    "#Function\n",
    "def rho_c(psi):\n",
    "    sigma_z = np.array([[1,0],[0,-1]])\n",
    "    I = np.array([[1,0],[0,1]])\n",
    "    Sminus = np.array([[0,0],[1,0]])\n",
    "    sigma_cz = np.kron(np.kron(I,sigma_z),I)\n",
    "    Sminus_cz = np.kron(np.kron(I,Sminus),I)\n",
    "    I_cz = np.kron(np.kron(I,I),I)\n",
    "    a = 0.5*(np.inner(np.conj(v1).T, np.matmul(I_cz+sigma_cz,v1)))\n",
    "    b = np.inner(np.conj(v1).T, np.matmul(Sminus_cz,v1))\n",
    "    return np.array([[a,b],[np.conj(b),1-a]])"
   ]
  },
  {
   "cell_type": "code",
   "execution_count": 104,
   "id": "504fb0ba",
   "metadata": {},
   "outputs": [
    {
     "data": {
      "text/plain": [
       "array([[ 0.5      +0.j  , -0.4330127+0.25j],\n",
       "       [-0.4330127-0.25j,  0.5      +0.j  ]])"
      ]
     },
     "execution_count": 104,
     "metadata": {},
     "output_type": "execute_result"
    }
   ],
   "source": [
    "rho_c(v1)"
   ]
  }
 ],
 "metadata": {
  "kernelspec": {
   "display_name": "Python 3 (ipykernel)",
   "language": "python",
   "name": "python3"
  },
  "language_info": {
   "codemirror_mode": {
    "name": "ipython",
    "version": 3
   },
   "file_extension": ".py",
   "mimetype": "text/x-python",
   "name": "python",
   "nbconvert_exporter": "python",
   "pygments_lexer": "ipython3",
   "version": "3.8.10"
  }
 },
 "nbformat": 4,
 "nbformat_minor": 5
}
