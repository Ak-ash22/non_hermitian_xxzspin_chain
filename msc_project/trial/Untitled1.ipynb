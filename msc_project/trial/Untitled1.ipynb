{
 "cells": [
  {
   "cell_type": "code",
   "execution_count": 32,
   "id": "34a4ccc9",
   "metadata": {},
   "outputs": [],
   "source": [
    "import numpy as np\n",
    "import matplotlib.pyplot as plt\n",
    "from qutip import basis, qeye, sigmax, sigmay, sigmaz, tensor\n",
    "from qutip import *"
   ]
  },
  {
   "cell_type": "code",
   "execution_count": 35,
   "id": "43dd3c81",
   "metadata": {},
   "outputs": [],
   "source": [
    "N = 3 #Number of spins\n",
    "\n",
    "gs = tensor(basis(2,0),basis(2,0),basis(2,0)) # There are 2 (up or down) states a spin can have. So total dimension of hilbert space in 2^3. Here all spins are in\n",
    "                   # 0 (up) state"
   ]
  },
  {
   "cell_type": "code",
   "execution_count": 37,
   "id": "71015711",
   "metadata": {},
   "outputs": [
    {
     "data": {
      "text/latex": [
       "Quantum object: dims = [[2, 2, 2], [1, 1, 1]], shape = (8, 1), type = ket $ \\\\ \\left(\\begin{matrix}1.0\\\\0.0\\\\0.0\\\\0.0\\\\0.0\\\\0.0\\\\0.0\\\\0.0\\\\\\end{matrix}\\right)$"
      ],
      "text/plain": [
       "Quantum object: dims = [[2, 2, 2], [1, 1, 1]], shape = (8, 1), type = ket\n",
       "Qobj data =\n",
       "[[1.]\n",
       " [0.]\n",
       " [0.]\n",
       " [0.]\n",
       " [0.]\n",
       " [0.]\n",
       " [0.]\n",
       " [0.]]"
      ]
     },
     "execution_count": 37,
     "metadata": {},
     "output_type": "execute_result"
    }
   ],
   "source": [
    "gs"
   ]
  },
  {
   "cell_type": "code",
   "execution_count": 7,
   "id": "3d5086f1",
   "metadata": {},
   "outputs": [],
   "source": [
    "#Hamiltonian for subsystem A\n",
    "J = 1\n",
    "\n",
    "sx1 = tensor(sigmax(),qeye(2),qeye(2))\n",
    "sy1 = tensor(sigmay(),qeye(2),qeye(2))\n",
    "sz1 = tensor(sigmaz(),qeye(2),qeye(2))\n",
    "\n",
    "H_a = J*(sx1+sy1+sz1)"
   ]
  },
  {
   "cell_type": "code",
   "execution_count": 8,
   "id": "8b8f297c",
   "metadata": {},
   "outputs": [],
   "source": [
    "#Hamiltonian for subsystem B\n",
    "\n",
    "sx3 = tensor(qeye(2),qeye(2),sigmax())\n",
    "sy3 = tensor(qeye(2),qeye(2),sigmay())\n",
    "sz3 = tensor(qeye(2),qeye(2),sigmay())\n",
    "\n",
    "H_b = J*(sx3+sy3+sz3)"
   ]
  },
  {
   "cell_type": "code",
   "execution_count": 20,
   "id": "85b56ced",
   "metadata": {},
   "outputs": [],
   "source": [
    "#Hamiltonian for subsytem C\n",
    "T = 0.5\n",
    "sx2 = tensor(qeye(2),sigmax(),qeye(2))\n",
    "sz2 = tensor(qeye(2),sigmaz(),qeye(2))\n",
    "\n",
    "H_c = T*1j*sz2 + J*sx2"
   ]
  },
  {
   "cell_type": "code",
   "execution_count": 25,
   "id": "4a12a87c",
   "metadata": {},
   "outputs": [
    {
     "data": {
      "text/latex": [
       "Quantum object: dims = [[2, 2, 2], [2, 2, 2]], shape = (8, 8), type = oper, isherm = True $ \\\\ \\left(\\begin{matrix}0.0 & 0.0 & 1.0 & 0.0 & 0.0 & 0.0 & 0.0 & 0.0\\\\0.0 & 0.0 & 0.0 & 1.0 & 0.0 & 0.0 & 0.0 & 0.0\\\\1.0 & 0.0 & 0.0 & 0.0 & 0.0 & 0.0 & 0.0 & 0.0\\\\0.0 & 1.0 & 0.0 & 0.0 & 0.0 & 0.0 & 0.0 & 0.0\\\\0.0 & 0.0 & 0.0 & 0.0 & 0.0 & 0.0 & 1.0 & 0.0\\\\0.0 & 0.0 & 0.0 & 0.0 & 0.0 & 0.0 & 0.0 & 1.0\\\\0.0 & 0.0 & 0.0 & 0.0 & 1.0 & 0.0 & 0.0 & 0.0\\\\0.0 & 0.0 & 0.0 & 0.0 & 0.0 & 1.0 & 0.0 & 0.0\\\\\\end{matrix}\\right)$"
      ],
      "text/plain": [
       "Quantum object: dims = [[2, 2, 2], [2, 2, 2]], shape = (8, 8), type = oper, isherm = True\n",
       "Qobj data =\n",
       "[[0. 0. 1. 0. 0. 0. 0. 0.]\n",
       " [0. 0. 0. 1. 0. 0. 0. 0.]\n",
       " [1. 0. 0. 0. 0. 0. 0. 0.]\n",
       " [0. 1. 0. 0. 0. 0. 0. 0.]\n",
       " [0. 0. 0. 0. 0. 0. 1. 0.]\n",
       " [0. 0. 0. 0. 0. 0. 0. 1.]\n",
       " [0. 0. 0. 0. 1. 0. 0. 0.]\n",
       " [0. 0. 0. 0. 0. 1. 0. 0.]]"
      ]
     },
     "execution_count": 25,
     "metadata": {},
     "output_type": "execute_result"
    }
   ],
   "source": [
    "sx2"
   ]
  },
  {
   "cell_type": "code",
   "execution_count": 12,
   "id": "32303213",
   "metadata": {},
   "outputs": [],
   "source": [
    "#Interactions\n",
    "\n",
    "sx_ac = tensor(sigmax(),sigmax(),qeye(2))\n",
    "sy_ac = tensor(sigmay(),sigmay(),qeye(2))\n",
    "sz_ac = tensor(sigmaz(),sigmaz(),qeye(2))\n",
    "\n",
    "sx_bc = tensor(qeye(2),sigmax(),sigmax())\n",
    "sy_bc = tensor(qeye(2),sigmay(),sigmay())\n",
    "sz_bc = tensor(qeye(2),sigmaz(),sigmaz())\n",
    "\n",
    "sx_ab = tensor(sigmax(),qeye(2),sigmax())\n",
    "sy_ab = tensor(sigmay(),qeye(2),sigmay())\n",
    "sz_ab = tensor(sigmaz(),qeye(2),sigmaz())\n",
    "\n",
    "D = 0.5\n",
    "\n",
    "H_ac = J*(sx_ac + sy_ac) + D*(sz_ac)\n",
    "H_bc = J*(sx_bc + sy_bc) + D*(sz_bc)\n",
    "H_ab = J*(sx_ab + sy_ab) + D*(sz_bc)"
   ]
  },
  {
   "cell_type": "code",
   "execution_count": 14,
   "id": "784dafe3",
   "metadata": {},
   "outputs": [
    {
     "data": {
      "text/latex": [
       "Quantum object: dims = [[2, 2, 2], [2, 2, 2]], shape = (8, 8), type = oper, isherm = False $ \\\\ \\left(\\begin{matrix}0.0 & 0.0 & (1.0+0.500j) & 0.0 & 0.0 & 0.0 & 0.0 & 0.0\\\\0.0 & 0.0 & 0.0 & (1.0+0.500j) & 0.0 & 0.0 & 0.0 & 0.0\\\\(1.0+0.500j) & 0.0 & 0.0 & 0.0 & 0.0 & 0.0 & 0.0 & 0.0\\\\0.0 & (1.0+0.500j) & 0.0 & 0.0 & 0.0 & 0.0 & 0.0 & 0.0\\\\0.0 & 0.0 & 0.0 & 0.0 & 0.0 & 0.0 & (1.0+0.500j) & 0.0\\\\0.0 & 0.0 & 0.0 & 0.0 & 0.0 & 0.0 & 0.0 & (1.0+0.500j)\\\\0.0 & 0.0 & 0.0 & 0.0 & (1.0+0.500j) & 0.0 & 0.0 & 0.0\\\\0.0 & 0.0 & 0.0 & 0.0 & 0.0 & (1.0+0.500j) & 0.0 & 0.0\\\\\\end{matrix}\\right)$"
      ],
      "text/plain": [
       "Quantum object: dims = [[2, 2, 2], [2, 2, 2]], shape = (8, 8), type = oper, isherm = False\n",
       "Qobj data =\n",
       "[[0.+0.j  0.+0.j  1.+0.5j 0.+0.j  0.+0.j  0.+0.j  0.+0.j  0.+0.j ]\n",
       " [0.+0.j  0.+0.j  0.+0.j  1.+0.5j 0.+0.j  0.+0.j  0.+0.j  0.+0.j ]\n",
       " [1.+0.5j 0.+0.j  0.+0.j  0.+0.j  0.+0.j  0.+0.j  0.+0.j  0.+0.j ]\n",
       " [0.+0.j  1.+0.5j 0.+0.j  0.+0.j  0.+0.j  0.+0.j  0.+0.j  0.+0.j ]\n",
       " [0.+0.j  0.+0.j  0.+0.j  0.+0.j  0.+0.j  0.+0.j  1.+0.5j 0.+0.j ]\n",
       " [0.+0.j  0.+0.j  0.+0.j  0.+0.j  0.+0.j  0.+0.j  0.+0.j  1.+0.5j]\n",
       " [0.+0.j  0.+0.j  0.+0.j  0.+0.j  1.+0.5j 0.+0.j  0.+0.j  0.+0.j ]\n",
       " [0.+0.j  0.+0.j  0.+0.j  0.+0.j  0.+0.j  1.+0.5j 0.+0.j  0.+0.j ]]"
      ]
     },
     "execution_count": 14,
     "metadata": {},
     "output_type": "execute_result"
    }
   ],
   "source": [
    "H"
   ]
  },
  {
   "cell_type": "code",
   "execution_count": 23,
   "id": "ca6c94fa",
   "metadata": {},
   "outputs": [
    {
     "data": {
      "text/latex": [
       "Quantum object: dims = [[2, 2, 2], [2, 2, 2]], shape = (8, 8), type = oper, isherm = False $ \\\\ \\left(\\begin{matrix}(1.500+0.500j) & 0.0 & 1.0 & 0.0 & 0.0 & 0.0 & 0.0 & 0.0\\\\0.0 & (-0.500+0.500j) & 2.0 & 1.0 & 2.0 & 0.0 & 0.0 & 0.0\\\\1.0 & 2.0 & (-1.500-0.500j) & 0.0 & 2.0 & 0.0 & 0.0 & 0.0\\\\0.0 & 1.0 & 0.0 & (0.500-0.500j) & 0.0 & 2.0 & 2.0 & 0.0\\\\0.0 & 2.0 & 2.0 & 0.0 & (0.500+0.500j) & 0.0 & 1.0 & 0.0\\\\0.0 & 0.0 & 0.0 & 2.0 & 0.0 & (-1.500+0.500j) & 2.0 & 1.0\\\\0.0 & 0.0 & 0.0 & 2.0 & 1.0 & 2.0 & (-0.500-0.500j) & 0.0\\\\0.0 & 0.0 & 0.0 & 0.0 & 0.0 & 1.0 & 0.0 & (1.500-0.500j)\\\\\\end{matrix}\\right)$"
      ],
      "text/plain": [
       "Quantum object: dims = [[2, 2, 2], [2, 2, 2]], shape = (8, 8), type = oper, isherm = False\n",
       "Qobj data =\n",
       "[[ 1.5+0.5j  0. +0.j   1. +0.j   0. +0.j   0. +0.j   0. +0.j   0. +0.j\n",
       "   0. +0.j ]\n",
       " [ 0. +0.j  -0.5+0.5j  2. +0.j   1. +0.j   2. +0.j   0. +0.j   0. +0.j\n",
       "   0. +0.j ]\n",
       " [ 1. +0.j   2. +0.j  -1.5-0.5j  0. +0.j   2. +0.j   0. +0.j   0. +0.j\n",
       "   0. +0.j ]\n",
       " [ 0. +0.j   1. +0.j   0. +0.j   0.5-0.5j  0. +0.j   2. +0.j   2. +0.j\n",
       "   0. +0.j ]\n",
       " [ 0. +0.j   2. +0.j   2. +0.j   0. +0.j   0.5+0.5j  0. +0.j   1. +0.j\n",
       "   0. +0.j ]\n",
       " [ 0. +0.j   0. +0.j   0. +0.j   2. +0.j   0. +0.j  -1.5+0.5j  2. +0.j\n",
       "   1. +0.j ]\n",
       " [ 0. +0.j   0. +0.j   0. +0.j   2. +0.j   1. +0.j   2. +0.j  -0.5-0.5j\n",
       "   0. +0.j ]\n",
       " [ 0. +0.j   0. +0.j   0. +0.j   0. +0.j   0. +0.j   1. +0.j   0. +0.j\n",
       "   1.5-0.5j]]"
      ]
     },
     "execution_count": 23,
     "metadata": {},
     "output_type": "execute_result"
    }
   ],
   "source": [
    "H = H_c + H_ab + H_bc + H_ac\n",
    "H"
   ]
  },
  {
   "cell_type": "code",
   "execution_count": 30,
   "id": "4de87992",
   "metadata": {},
   "outputs": [
    {
     "data": {
      "text/plain": [
       "array([-3.29645113-8.46490499e-02j, -3.29645113+8.46490499e-02j,\n",
       "       -2.80824809+3.48394493e-17j, -1.15079552-1.24017476e-16j,\n",
       "        1.53403163+4.85450000e-01j,  1.53403163-4.85450000e-01j,\n",
       "        3.09729755+1.93704412e-15j,  4.38658504-1.60114977e-15j])"
      ]
     },
     "execution_count": 30,
     "metadata": {},
     "output_type": "execute_result"
    }
   ],
   "source": [
    "H.eigenenergies(sparse=False, sort='low', eigvals=0, tol=0, maxiter=100000)"
   ]
  },
  {
   "cell_type": "code",
   "execution_count": 29,
   "id": "f709512a",
   "metadata": {},
   "outputs": [
    {
     "name": "stdout",
     "output_type": "stream",
     "text": [
      "WARNING: Ground state may be degenerate. Use Q.eigenstates()\n"
     ]
    },
    {
     "data": {
      "text/plain": [
       "((-3.296451128373749-0.08464904985698679j),\n",
       " Quantum object: dims = [[2, 2, 2], [1, 1, 1]], shape = (8, 1), type = ket\n",
       " Qobj data =\n",
       " [[-0.1444569 +0.01760814j]\n",
       "  [-0.42548141+0.12000257j]\n",
       "  [ 0.70317504+0.j        ]\n",
       "  [ 0.12144715-0.12127516j]\n",
       "  [-0.13389994+0.01722557j]\n",
       "  [ 0.04436427+0.42254462j]\n",
       "  [-0.03697178-0.2271167j ]\n",
       "  [-0.00160868-0.08823457j]])"
      ]
     },
     "execution_count": 29,
     "metadata": {},
     "output_type": "execute_result"
    }
   ],
   "source": [
    "H.groundstate()"
   ]
  },
  {
   "cell_type": "code",
   "execution_count": 32,
   "id": "a081bc0a",
   "metadata": {},
   "outputs": [],
   "source": [
    "times = np.linspace(0,100,1000)\n",
    "result = mesolve(H,gs,times,[],[])"
   ]
  },
  {
   "cell_type": "code",
   "execution_count": 36,
   "id": "91977ef9",
   "metadata": {},
   "outputs": [
    {
     "data": {
      "text/latex": [
       "Quantum object: dims = [[8], [1]], shape = (8, 1), type = ket $ \\\\ \\left(\\begin{matrix}(0.098+0.344j)\\\\(-0.209+0.280j)\\\\(-0.082+0.347j)\\\\(-0.457+0.225j)\\\\(-0.158+0.330j)\\\\(-0.259+0.067j)\\\\(-0.249+0.159j)\\\\(-0.254-0.085j)\\\\\\end{matrix}\\right)$"
      ],
      "text/plain": [
       "Quantum object: dims = [[8], [1]], shape = (8, 1), type = ket\n",
       "Qobj data =\n",
       "[[ 0.0979398 +0.34401849j]\n",
       " [-0.20867761+0.28029825j]\n",
       " [-0.08239966+0.3466155j ]\n",
       " [-0.45682943+0.22451374j]\n",
       " [-0.15831233+0.33005353j]\n",
       " [-0.25868284+0.06685181j]\n",
       " [-0.24856438+0.15907j   ]\n",
       " [-0.25353206-0.08464009j]]"
      ]
     },
     "execution_count": 36,
     "metadata": {},
     "output_type": "execute_result"
    }
   ],
   "source": [
    "result.states[-1]"
   ]
  },
  {
   "cell_type": "code",
   "execution_count": 34,
   "id": "18364ab5",
   "metadata": {},
   "outputs": [
    {
     "ename": "AttributeError",
     "evalue": "'Qobj' object has no attribute 'reshape'",
     "output_type": "error",
     "traceback": [
      "\u001b[0;31m---------------------------------------------------------------------------\u001b[0m",
      "\u001b[0;31mAttributeError\u001b[0m                            Traceback (most recent call last)",
      "Input \u001b[0;32mIn [34]\u001b[0m, in \u001b[0;36m<cell line: 1>\u001b[0;34m()\u001b[0m\n\u001b[0;32m----> 1\u001b[0m a \u001b[38;5;241m=\u001b[39m \u001b[43mH\u001b[49m\u001b[38;5;241;43m.\u001b[39;49m\u001b[43mreshape\u001b[49m(\u001b[38;5;241m8\u001b[39m,\u001b[38;5;241m1\u001b[39m,\u001b[38;5;241m8\u001b[39m,\u001b[38;5;241m1\u001b[39m)\n\u001b[1;32m      2\u001b[0m a\n",
      "\u001b[0;31mAttributeError\u001b[0m: 'Qobj' object has no attribute 'reshape'"
     ]
    }
   ],
   "source": [
    "a = H.reshape(8,1,8,1)\n",
    "a"
   ]
  }
 ],
 "metadata": {
  "kernelspec": {
   "display_name": "Python 3 (ipykernel)",
   "language": "python",
   "name": "python3"
  },
  "language_info": {
   "codemirror_mode": {
    "name": "ipython",
    "version": 3
   },
   "file_extension": ".py",
   "mimetype": "text/x-python",
   "name": "python",
   "nbconvert_exporter": "python",
   "pygments_lexer": "ipython3",
   "version": "3.8.10"
  }
 },
 "nbformat": 4,
 "nbformat_minor": 5
}
